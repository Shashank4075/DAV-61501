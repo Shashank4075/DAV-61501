{
 "cells": [
  {
   "cell_type": "markdown",
   "id": "9d46cd70",
   "metadata": {},
   "source": [
    "# Cleaning Messy Data\n",
    "## Alcohol Dataset\n",
    "\n",
    "### Introduction\n",
    "-- Hi \n",
    "\n",
    "###"
   ]
  },
  {
   "cell_type": "markdown",
   "id": "85475bce",
   "metadata": {},
   "source": [
    "### Gaining some important domain knowledge.\n",
    "\n",
    "#### There are total 16 attributes.\n",
    "\n",
    "1) **INDEX** - It is the Index assign to every rows.\n",
    "\n",
    "2) **TARGET** - It is the number of wines sold, which is the response variable. \n",
    "\n",
    "3) **FixedAcidity** - It is a type of non-volatile acid present in alcohol, and these acids remains stable under heat or any condition. It defins the drink's taste, keep it balanced, moreover preserve the freshness. It determins the body of the drink, balanced flavours, basically it tells you the feel of wine in your mouth with its flavours. It ranges from 3 to 9 g/L in wine.\n",
    "\n",
    "4) **VolatileAcidity** - It is a type of volatile acid present in alcohol, and can evaporate easily when exposed to heat. It results in moicrobial activity, such as fermentation or spoilage. Low level use of this type of acid can enhance the flavour, but excessive level of usage can lead to spoilage, off-flavours, vinagar like taste, etc. They are generally below 0.3 to 0.7 g/L in wine.\n",
    "\n",
    "5) **CitricAcid** - It is used to increase the acidity, flavor, and microbial stability to wines. It generally ranges from 0.5 to 3 g/L.\n",
    "\n",
    "6) **ResidualSugar** - It is the amount of natural sugar(glucose and fructose) left in the wine after fermentation. Overall it ranges from 0 - 30 g/L (Dry Wines - 0 to 4 g/L, SemiDry Wines - 4 to 12 g/L, Medium sweets wines - 12 to 30 g/L).\n",
    "\n",
    "7) **Chlorides** - These are the natural salts which are found while making wines, thus it can influence the taste and quality. Averagly it ranges from 50 to 150 mg/L, but in few cases it may increase to 150 mg/L or it can be less than 50 mg/L.\n",
    "\n",
    "8) **FreeSulfurDioxide** - It is available in wine to act as an antimirobial agent and antioxidant. \n",
    "\n",
    "9) **TotalSulfurDioxide** - \n",
    "\n",
    "10) **Density** - \n",
    "\n",
    "11) **pH** - It provides the measure of acidity or alkalinity, which is also use to determine wine's taste,  stability, and aging potential. Typical pH is between 3.0 to 3.4.\n",
    "\n",
    "12) **Sulphates** - \n",
    "\n",
    "13) **Alcohol** - \n",
    "\n",
    "14) **LabelAppeal** - Subjective marketing score that indicates the appeal of the design of the label on the bottle.\n",
    "\n",
    "15) **AcidIndex** -\n",
    "\n",
    "16) **STARS** - These are the rating which is provided by the experts, who are specialised in tasting wines and giving it's rating and an overview."
   ]
  },
  {
   "cell_type": "markdown",
   "id": "90cba4ac",
   "metadata": {},
   "source": [
    "### Import the required Libraries."
   ]
  },
  {
   "cell_type": "code",
   "execution_count": 1,
   "id": "1d765d56",
   "metadata": {},
   "outputs": [
    {
     "name": "stderr",
     "output_type": "stream",
     "text": [
      "/Users/chaitanya/opt/anaconda3/lib/python3.8/site-packages/scipy/__init__.py:138: UserWarning: A NumPy version >=1.16.5 and <1.23.0 is required for this version of SciPy (detected version 1.24.4)\n",
      "  warnings.warn(f\"A NumPy version >={np_minversion} and <{np_maxversion} is required for this version of \"\n"
     ]
    }
   ],
   "source": [
    "# Importing the required Libraries.\n",
    "\n",
    "import numpy as np                  # numpy for numerical computing.\n",
    "import pandas as pd                 # pandas for analysis, cleaning, manupulation of dataframe.\n",
    "import matplotlib.pyplot as plt     # pyplot for different types of graphs.\n",
    "import seaborn as sns               # seaborn for different types of aesthetic graphs.\n",
    "\n",
    "import warnings \n",
    "warnings.filterwarnings(action='ignore')     # to supress the warning messages."
   ]
  },
  {
   "cell_type": "markdown",
   "id": "98b3aa7c",
   "metadata": {},
   "source": [
    "### Load and look into the dataset."
   ]
  },
  {
   "cell_type": "code",
   "execution_count": 2,
   "id": "a7674726",
   "metadata": {
    "scrolled": true
   },
   "outputs": [
    {
     "data": {
      "text/html": [
       "<div>\n",
       "<style scoped>\n",
       "    .dataframe tbody tr th:only-of-type {\n",
       "        vertical-align: middle;\n",
       "    }\n",
       "\n",
       "    .dataframe tbody tr th {\n",
       "        vertical-align: top;\n",
       "    }\n",
       "\n",
       "    .dataframe thead th {\n",
       "        text-align: right;\n",
       "    }\n",
       "</style>\n",
       "<table border=\"1\" class=\"dataframe\">\n",
       "  <thead>\n",
       "    <tr style=\"text-align: right;\">\n",
       "      <th></th>\n",
       "      <th>INDEX</th>\n",
       "      <th>TARGET</th>\n",
       "      <th>FixedAcidity</th>\n",
       "      <th>VolatileAcidity</th>\n",
       "      <th>CitricAcid</th>\n",
       "      <th>ResidualSugar</th>\n",
       "      <th>Chlorides</th>\n",
       "      <th>FreeSulfurDioxide</th>\n",
       "      <th>TotalSulfurDioxide</th>\n",
       "      <th>Density</th>\n",
       "      <th>pH</th>\n",
       "      <th>Sulphates</th>\n",
       "      <th>Alcohol</th>\n",
       "      <th>LabelAppeal</th>\n",
       "      <th>AcidIndex</th>\n",
       "      <th>STARS</th>\n",
       "    </tr>\n",
       "  </thead>\n",
       "  <tbody>\n",
       "    <tr>\n",
       "      <th>0</th>\n",
       "      <td>1</td>\n",
       "      <td>3</td>\n",
       "      <td>3.2</td>\n",
       "      <td>1.160</td>\n",
       "      <td>-0.98</td>\n",
       "      <td>54.2</td>\n",
       "      <td>-0.567</td>\n",
       "      <td>NaN</td>\n",
       "      <td>268.0</td>\n",
       "      <td>0.99280</td>\n",
       "      <td>3.33</td>\n",
       "      <td>-0.59</td>\n",
       "      <td>9.9</td>\n",
       "      <td>0</td>\n",
       "      <td>8</td>\n",
       "      <td>2.0</td>\n",
       "    </tr>\n",
       "    <tr>\n",
       "      <th>1</th>\n",
       "      <td>2</td>\n",
       "      <td>3</td>\n",
       "      <td>4.5</td>\n",
       "      <td>0.160</td>\n",
       "      <td>-0.81</td>\n",
       "      <td>26.1</td>\n",
       "      <td>-0.425</td>\n",
       "      <td>15.0</td>\n",
       "      <td>-327.0</td>\n",
       "      <td>1.02792</td>\n",
       "      <td>3.38</td>\n",
       "      <td>0.70</td>\n",
       "      <td>NaN</td>\n",
       "      <td>-1</td>\n",
       "      <td>7</td>\n",
       "      <td>3.0</td>\n",
       "    </tr>\n",
       "    <tr>\n",
       "      <th>2</th>\n",
       "      <td>4</td>\n",
       "      <td>5</td>\n",
       "      <td>7.1</td>\n",
       "      <td>2.640</td>\n",
       "      <td>-0.88</td>\n",
       "      <td>14.8</td>\n",
       "      <td>0.037</td>\n",
       "      <td>214.0</td>\n",
       "      <td>142.0</td>\n",
       "      <td>0.99518</td>\n",
       "      <td>3.12</td>\n",
       "      <td>0.48</td>\n",
       "      <td>22.0</td>\n",
       "      <td>-1</td>\n",
       "      <td>8</td>\n",
       "      <td>3.0</td>\n",
       "    </tr>\n",
       "    <tr>\n",
       "      <th>3</th>\n",
       "      <td>5</td>\n",
       "      <td>3</td>\n",
       "      <td>5.7</td>\n",
       "      <td>0.385</td>\n",
       "      <td>0.04</td>\n",
       "      <td>18.8</td>\n",
       "      <td>-0.425</td>\n",
       "      <td>22.0</td>\n",
       "      <td>115.0</td>\n",
       "      <td>0.99640</td>\n",
       "      <td>2.24</td>\n",
       "      <td>1.83</td>\n",
       "      <td>6.2</td>\n",
       "      <td>-1</td>\n",
       "      <td>6</td>\n",
       "      <td>1.0</td>\n",
       "    </tr>\n",
       "    <tr>\n",
       "      <th>4</th>\n",
       "      <td>6</td>\n",
       "      <td>4</td>\n",
       "      <td>8.0</td>\n",
       "      <td>0.330</td>\n",
       "      <td>-1.26</td>\n",
       "      <td>9.4</td>\n",
       "      <td>NaN</td>\n",
       "      <td>-167.0</td>\n",
       "      <td>108.0</td>\n",
       "      <td>0.99457</td>\n",
       "      <td>3.12</td>\n",
       "      <td>1.77</td>\n",
       "      <td>13.7</td>\n",
       "      <td>0</td>\n",
       "      <td>9</td>\n",
       "      <td>2.0</td>\n",
       "    </tr>\n",
       "  </tbody>\n",
       "</table>\n",
       "</div>"
      ],
      "text/plain": [
       "   INDEX  TARGET  FixedAcidity  VolatileAcidity  CitricAcid  ResidualSugar  \\\n",
       "0      1       3           3.2            1.160       -0.98           54.2   \n",
       "1      2       3           4.5            0.160       -0.81           26.1   \n",
       "2      4       5           7.1            2.640       -0.88           14.8   \n",
       "3      5       3           5.7            0.385        0.04           18.8   \n",
       "4      6       4           8.0            0.330       -1.26            9.4   \n",
       "\n",
       "   Chlorides  FreeSulfurDioxide  TotalSulfurDioxide  Density    pH  Sulphates  \\\n",
       "0     -0.567                NaN               268.0  0.99280  3.33      -0.59   \n",
       "1     -0.425               15.0              -327.0  1.02792  3.38       0.70   \n",
       "2      0.037              214.0               142.0  0.99518  3.12       0.48   \n",
       "3     -0.425               22.0               115.0  0.99640  2.24       1.83   \n",
       "4        NaN             -167.0               108.0  0.99457  3.12       1.77   \n",
       "\n",
       "   Alcohol  LabelAppeal  AcidIndex  STARS  \n",
       "0      9.9            0          8    2.0  \n",
       "1      NaN           -1          7    3.0  \n",
       "2     22.0           -1          8    3.0  \n",
       "3      6.2           -1          6    1.0  \n",
       "4     13.7            0          9    2.0  "
      ]
     },
     "execution_count": 2,
     "metadata": {},
     "output_type": "execute_result"
    }
   ],
   "source": [
    "# To load the file.\n",
    "\n",
    "alcohol = pd.read_csv('M3_Data.csv')  \n",
    "df = alcohol.copy()                        # To keep the original copy safe, and not to loose data from the main.\n",
    "\n",
    "df.head()"
   ]
  },
  {
   "cell_type": "code",
   "execution_count": 3,
   "id": "e9242749",
   "metadata": {},
   "outputs": [
    {
     "data": {
      "text/plain": [
       "(12795, 16)"
      ]
     },
     "execution_count": 3,
     "metadata": {},
     "output_type": "execute_result"
    }
   ],
   "source": [
    "df.shape"
   ]
  },
  {
   "cell_type": "code",
   "execution_count": 4,
   "id": "9e28fd26",
   "metadata": {},
   "outputs": [
    {
     "name": "stdout",
     "output_type": "stream",
     "text": [
      "<class 'pandas.core.frame.DataFrame'>\n",
      "RangeIndex: 12795 entries, 0 to 12794\n",
      "Data columns (total 16 columns):\n",
      " #   Column              Non-Null Count  Dtype  \n",
      "---  ------              --------------  -----  \n",
      " 0   INDEX               12795 non-null  int64  \n",
      " 1   TARGET              12795 non-null  int64  \n",
      " 2   FixedAcidity        12795 non-null  float64\n",
      " 3   VolatileAcidity     12795 non-null  float64\n",
      " 4   CitricAcid          12795 non-null  float64\n",
      " 5   ResidualSugar       12179 non-null  float64\n",
      " 6   Chlorides           12157 non-null  float64\n",
      " 7   FreeSulfurDioxide   12148 non-null  float64\n",
      " 8   TotalSulfurDioxide  12113 non-null  float64\n",
      " 9   Density             12795 non-null  float64\n",
      " 10  pH                  12400 non-null  float64\n",
      " 11  Sulphates           11585 non-null  float64\n",
      " 12  Alcohol             12142 non-null  float64\n",
      " 13  LabelAppeal         12795 non-null  int64  \n",
      " 14  AcidIndex           12795 non-null  int64  \n",
      " 15  STARS               9436 non-null   float64\n",
      "dtypes: float64(12), int64(4)\n",
      "memory usage: 1.6 MB\n"
     ]
    }
   ],
   "source": [
    "df.info()"
   ]
  },
  {
   "cell_type": "code",
   "execution_count": 5,
   "id": "553538e2",
   "metadata": {},
   "outputs": [
    {
     "data": {
      "text/html": [
       "<div>\n",
       "<style scoped>\n",
       "    .dataframe tbody tr th:only-of-type {\n",
       "        vertical-align: middle;\n",
       "    }\n",
       "\n",
       "    .dataframe tbody tr th {\n",
       "        vertical-align: top;\n",
       "    }\n",
       "\n",
       "    .dataframe thead th {\n",
       "        text-align: right;\n",
       "    }\n",
       "</style>\n",
       "<table border=\"1\" class=\"dataframe\">\n",
       "  <thead>\n",
       "    <tr style=\"text-align: right;\">\n",
       "      <th></th>\n",
       "      <th>INDEX</th>\n",
       "      <th>TARGET</th>\n",
       "      <th>FixedAcidity</th>\n",
       "      <th>VolatileAcidity</th>\n",
       "      <th>CitricAcid</th>\n",
       "      <th>ResidualSugar</th>\n",
       "      <th>Chlorides</th>\n",
       "      <th>FreeSulfurDioxide</th>\n",
       "      <th>TotalSulfurDioxide</th>\n",
       "      <th>Density</th>\n",
       "      <th>pH</th>\n",
       "      <th>Sulphates</th>\n",
       "      <th>Alcohol</th>\n",
       "      <th>LabelAppeal</th>\n",
       "      <th>AcidIndex</th>\n",
       "      <th>STARS</th>\n",
       "    </tr>\n",
       "  </thead>\n",
       "  <tbody>\n",
       "    <tr>\n",
       "      <th>count</th>\n",
       "      <td>12795.000000</td>\n",
       "      <td>12795.000000</td>\n",
       "      <td>12795.000000</td>\n",
       "      <td>12795.000000</td>\n",
       "      <td>12795.000000</td>\n",
       "      <td>12179.000000</td>\n",
       "      <td>12157.000000</td>\n",
       "      <td>12148.000000</td>\n",
       "      <td>12113.000000</td>\n",
       "      <td>12795.000000</td>\n",
       "      <td>12400.000000</td>\n",
       "      <td>11585.000000</td>\n",
       "      <td>12142.000000</td>\n",
       "      <td>12795.000000</td>\n",
       "      <td>12795.000000</td>\n",
       "      <td>9436.000000</td>\n",
       "    </tr>\n",
       "    <tr>\n",
       "      <th>mean</th>\n",
       "      <td>8069.980305</td>\n",
       "      <td>3.029074</td>\n",
       "      <td>7.075717</td>\n",
       "      <td>0.324104</td>\n",
       "      <td>0.308413</td>\n",
       "      <td>5.418733</td>\n",
       "      <td>0.054822</td>\n",
       "      <td>30.845571</td>\n",
       "      <td>120.714233</td>\n",
       "      <td>0.994203</td>\n",
       "      <td>3.207628</td>\n",
       "      <td>0.527112</td>\n",
       "      <td>10.489236</td>\n",
       "      <td>-0.009066</td>\n",
       "      <td>7.772724</td>\n",
       "      <td>2.041755</td>\n",
       "    </tr>\n",
       "    <tr>\n",
       "      <th>std</th>\n",
       "      <td>4656.905107</td>\n",
       "      <td>1.926368</td>\n",
       "      <td>6.317643</td>\n",
       "      <td>0.784014</td>\n",
       "      <td>0.862080</td>\n",
       "      <td>33.749379</td>\n",
       "      <td>0.318467</td>\n",
       "      <td>148.714558</td>\n",
       "      <td>231.913211</td>\n",
       "      <td>0.026538</td>\n",
       "      <td>0.679687</td>\n",
       "      <td>0.932129</td>\n",
       "      <td>3.727819</td>\n",
       "      <td>0.891089</td>\n",
       "      <td>1.323926</td>\n",
       "      <td>0.902540</td>\n",
       "    </tr>\n",
       "    <tr>\n",
       "      <th>min</th>\n",
       "      <td>1.000000</td>\n",
       "      <td>0.000000</td>\n",
       "      <td>-18.100000</td>\n",
       "      <td>-2.790000</td>\n",
       "      <td>-3.240000</td>\n",
       "      <td>-127.800000</td>\n",
       "      <td>-1.171000</td>\n",
       "      <td>-555.000000</td>\n",
       "      <td>-823.000000</td>\n",
       "      <td>0.888090</td>\n",
       "      <td>0.480000</td>\n",
       "      <td>-3.130000</td>\n",
       "      <td>-4.700000</td>\n",
       "      <td>-2.000000</td>\n",
       "      <td>4.000000</td>\n",
       "      <td>1.000000</td>\n",
       "    </tr>\n",
       "    <tr>\n",
       "      <th>25%</th>\n",
       "      <td>4037.500000</td>\n",
       "      <td>2.000000</td>\n",
       "      <td>5.200000</td>\n",
       "      <td>0.130000</td>\n",
       "      <td>0.030000</td>\n",
       "      <td>-2.000000</td>\n",
       "      <td>-0.031000</td>\n",
       "      <td>0.000000</td>\n",
       "      <td>27.000000</td>\n",
       "      <td>0.987720</td>\n",
       "      <td>2.960000</td>\n",
       "      <td>0.280000</td>\n",
       "      <td>9.000000</td>\n",
       "      <td>-1.000000</td>\n",
       "      <td>7.000000</td>\n",
       "      <td>1.000000</td>\n",
       "    </tr>\n",
       "    <tr>\n",
       "      <th>50%</th>\n",
       "      <td>8110.000000</td>\n",
       "      <td>3.000000</td>\n",
       "      <td>6.900000</td>\n",
       "      <td>0.280000</td>\n",
       "      <td>0.310000</td>\n",
       "      <td>3.900000</td>\n",
       "      <td>0.046000</td>\n",
       "      <td>30.000000</td>\n",
       "      <td>123.000000</td>\n",
       "      <td>0.994490</td>\n",
       "      <td>3.200000</td>\n",
       "      <td>0.500000</td>\n",
       "      <td>10.400000</td>\n",
       "      <td>0.000000</td>\n",
       "      <td>8.000000</td>\n",
       "      <td>2.000000</td>\n",
       "    </tr>\n",
       "    <tr>\n",
       "      <th>75%</th>\n",
       "      <td>12106.500000</td>\n",
       "      <td>4.000000</td>\n",
       "      <td>9.500000</td>\n",
       "      <td>0.640000</td>\n",
       "      <td>0.580000</td>\n",
       "      <td>15.900000</td>\n",
       "      <td>0.153000</td>\n",
       "      <td>70.000000</td>\n",
       "      <td>208.000000</td>\n",
       "      <td>1.000515</td>\n",
       "      <td>3.470000</td>\n",
       "      <td>0.860000</td>\n",
       "      <td>12.400000</td>\n",
       "      <td>1.000000</td>\n",
       "      <td>8.000000</td>\n",
       "      <td>3.000000</td>\n",
       "    </tr>\n",
       "    <tr>\n",
       "      <th>max</th>\n",
       "      <td>16129.000000</td>\n",
       "      <td>8.000000</td>\n",
       "      <td>34.400000</td>\n",
       "      <td>3.680000</td>\n",
       "      <td>3.860000</td>\n",
       "      <td>141.150000</td>\n",
       "      <td>1.351000</td>\n",
       "      <td>623.000000</td>\n",
       "      <td>1057.000000</td>\n",
       "      <td>1.099240</td>\n",
       "      <td>6.130000</td>\n",
       "      <td>4.240000</td>\n",
       "      <td>26.500000</td>\n",
       "      <td>2.000000</td>\n",
       "      <td>17.000000</td>\n",
       "      <td>4.000000</td>\n",
       "    </tr>\n",
       "  </tbody>\n",
       "</table>\n",
       "</div>"
      ],
      "text/plain": [
       "              INDEX        TARGET  FixedAcidity  VolatileAcidity  \\\n",
       "count  12795.000000  12795.000000  12795.000000     12795.000000   \n",
       "mean    8069.980305      3.029074      7.075717         0.324104   \n",
       "std     4656.905107      1.926368      6.317643         0.784014   \n",
       "min        1.000000      0.000000    -18.100000        -2.790000   \n",
       "25%     4037.500000      2.000000      5.200000         0.130000   \n",
       "50%     8110.000000      3.000000      6.900000         0.280000   \n",
       "75%    12106.500000      4.000000      9.500000         0.640000   \n",
       "max    16129.000000      8.000000     34.400000         3.680000   \n",
       "\n",
       "         CitricAcid  ResidualSugar     Chlorides  FreeSulfurDioxide  \\\n",
       "count  12795.000000   12179.000000  12157.000000       12148.000000   \n",
       "mean       0.308413       5.418733      0.054822          30.845571   \n",
       "std        0.862080      33.749379      0.318467         148.714558   \n",
       "min       -3.240000    -127.800000     -1.171000        -555.000000   \n",
       "25%        0.030000      -2.000000     -0.031000           0.000000   \n",
       "50%        0.310000       3.900000      0.046000          30.000000   \n",
       "75%        0.580000      15.900000      0.153000          70.000000   \n",
       "max        3.860000     141.150000      1.351000         623.000000   \n",
       "\n",
       "       TotalSulfurDioxide       Density            pH     Sulphates  \\\n",
       "count        12113.000000  12795.000000  12400.000000  11585.000000   \n",
       "mean           120.714233      0.994203      3.207628      0.527112   \n",
       "std            231.913211      0.026538      0.679687      0.932129   \n",
       "min           -823.000000      0.888090      0.480000     -3.130000   \n",
       "25%             27.000000      0.987720      2.960000      0.280000   \n",
       "50%            123.000000      0.994490      3.200000      0.500000   \n",
       "75%            208.000000      1.000515      3.470000      0.860000   \n",
       "max           1057.000000      1.099240      6.130000      4.240000   \n",
       "\n",
       "            Alcohol   LabelAppeal     AcidIndex        STARS  \n",
       "count  12142.000000  12795.000000  12795.000000  9436.000000  \n",
       "mean      10.489236     -0.009066      7.772724     2.041755  \n",
       "std        3.727819      0.891089      1.323926     0.902540  \n",
       "min       -4.700000     -2.000000      4.000000     1.000000  \n",
       "25%        9.000000     -1.000000      7.000000     1.000000  \n",
       "50%       10.400000      0.000000      8.000000     2.000000  \n",
       "75%       12.400000      1.000000      8.000000     3.000000  \n",
       "max       26.500000      2.000000     17.000000     4.000000  "
      ]
     },
     "execution_count": 5,
     "metadata": {},
     "output_type": "execute_result"
    }
   ],
   "source": [
    "df.describe()"
   ]
  },
  {
   "cell_type": "code",
   "execution_count": null,
   "id": "8c33ac1a",
   "metadata": {},
   "outputs": [],
   "source": []
  },
  {
   "cell_type": "code",
   "execution_count": null,
   "id": "7dedcbec",
   "metadata": {},
   "outputs": [],
   "source": []
  },
  {
   "cell_type": "code",
   "execution_count": null,
   "id": "ea8d8070",
   "metadata": {},
   "outputs": [],
   "source": []
  },
  {
   "cell_type": "markdown",
   "id": "1d8962a5",
   "metadata": {},
   "source": [
    "### Cleaning Dataset."
   ]
  },
  {
   "cell_type": "code",
   "execution_count": 6,
   "id": "66ff3eb6",
   "metadata": {},
   "outputs": [],
   "source": [
    "# To change the negative values to positive values.\n",
    "df = abs(df)"
   ]
  },
  {
   "cell_type": "code",
   "execution_count": 7,
   "id": "44c7896d",
   "metadata": {
    "scrolled": true
   },
   "outputs": [
    {
     "data": {
      "text/html": [
       "<div>\n",
       "<style scoped>\n",
       "    .dataframe tbody tr th:only-of-type {\n",
       "        vertical-align: middle;\n",
       "    }\n",
       "\n",
       "    .dataframe tbody tr th {\n",
       "        vertical-align: top;\n",
       "    }\n",
       "\n",
       "    .dataframe thead th {\n",
       "        text-align: right;\n",
       "    }\n",
       "</style>\n",
       "<table border=\"1\" class=\"dataframe\">\n",
       "  <thead>\n",
       "    <tr style=\"text-align: right;\">\n",
       "      <th></th>\n",
       "      <th>INDEX</th>\n",
       "      <th>TARGET</th>\n",
       "      <th>FixedAcidity</th>\n",
       "      <th>VolatileAcidity</th>\n",
       "      <th>CitricAcid</th>\n",
       "      <th>ResidualSugar</th>\n",
       "      <th>Chlorides</th>\n",
       "      <th>FreeSulfurDioxide</th>\n",
       "      <th>TotalSulfurDioxide</th>\n",
       "      <th>Density</th>\n",
       "      <th>pH</th>\n",
       "      <th>Sulphates</th>\n",
       "      <th>Alcohol</th>\n",
       "      <th>LabelAppeal</th>\n",
       "      <th>AcidIndex</th>\n",
       "      <th>STARS</th>\n",
       "    </tr>\n",
       "  </thead>\n",
       "  <tbody>\n",
       "    <tr>\n",
       "      <th>count</th>\n",
       "      <td>12795.000000</td>\n",
       "      <td>12795.000000</td>\n",
       "      <td>12795.000000</td>\n",
       "      <td>12795.000000</td>\n",
       "      <td>12795.000000</td>\n",
       "      <td>12179.000000</td>\n",
       "      <td>12157.000000</td>\n",
       "      <td>12148.000000</td>\n",
       "      <td>12113.000000</td>\n",
       "      <td>12795.000000</td>\n",
       "      <td>12400.000000</td>\n",
       "      <td>11585.000000</td>\n",
       "      <td>12142.000000</td>\n",
       "      <td>12795.000000</td>\n",
       "      <td>12795.000000</td>\n",
       "      <td>9436.000000</td>\n",
       "    </tr>\n",
       "    <tr>\n",
       "      <th>mean</th>\n",
       "      <td>8069.980305</td>\n",
       "      <td>3.029074</td>\n",
       "      <td>8.063251</td>\n",
       "      <td>0.641086</td>\n",
       "      <td>0.686315</td>\n",
       "      <td>23.367809</td>\n",
       "      <td>0.222559</td>\n",
       "      <td>106.679042</td>\n",
       "      <td>204.319120</td>\n",
       "      <td>0.994203</td>\n",
       "      <td>3.207628</td>\n",
       "      <td>0.846668</td>\n",
       "      <td>10.523778</td>\n",
       "      <td>0.638687</td>\n",
       "      <td>7.772724</td>\n",
       "      <td>2.041755</td>\n",
       "    </tr>\n",
       "    <tr>\n",
       "      <th>std</th>\n",
       "      <td>4656.905107</td>\n",
       "      <td>1.926368</td>\n",
       "      <td>4.996119</td>\n",
       "      <td>0.555614</td>\n",
       "      <td>0.606005</td>\n",
       "      <td>24.945667</td>\n",
       "      <td>0.234288</td>\n",
       "      <td>108.102694</td>\n",
       "      <td>163.116881</td>\n",
       "      <td>0.026538</td>\n",
       "      <td>0.679687</td>\n",
       "      <td>0.655612</td>\n",
       "      <td>3.629154</td>\n",
       "      <td>0.621425</td>\n",
       "      <td>1.323926</td>\n",
       "      <td>0.902540</td>\n",
       "    </tr>\n",
       "    <tr>\n",
       "      <th>min</th>\n",
       "      <td>1.000000</td>\n",
       "      <td>0.000000</td>\n",
       "      <td>0.000000</td>\n",
       "      <td>0.000000</td>\n",
       "      <td>0.000000</td>\n",
       "      <td>0.000000</td>\n",
       "      <td>0.000000</td>\n",
       "      <td>0.000000</td>\n",
       "      <td>0.000000</td>\n",
       "      <td>0.888090</td>\n",
       "      <td>0.480000</td>\n",
       "      <td>0.000000</td>\n",
       "      <td>0.000000</td>\n",
       "      <td>0.000000</td>\n",
       "      <td>4.000000</td>\n",
       "      <td>1.000000</td>\n",
       "    </tr>\n",
       "    <tr>\n",
       "      <th>25%</th>\n",
       "      <td>4037.500000</td>\n",
       "      <td>2.000000</td>\n",
       "      <td>5.600000</td>\n",
       "      <td>0.250000</td>\n",
       "      <td>0.280000</td>\n",
       "      <td>3.600000</td>\n",
       "      <td>0.046000</td>\n",
       "      <td>28.000000</td>\n",
       "      <td>100.000000</td>\n",
       "      <td>0.987720</td>\n",
       "      <td>2.960000</td>\n",
       "      <td>0.430000</td>\n",
       "      <td>9.000000</td>\n",
       "      <td>0.000000</td>\n",
       "      <td>7.000000</td>\n",
       "      <td>1.000000</td>\n",
       "    </tr>\n",
       "    <tr>\n",
       "      <th>50%</th>\n",
       "      <td>8110.000000</td>\n",
       "      <td>3.000000</td>\n",
       "      <td>7.000000</td>\n",
       "      <td>0.410000</td>\n",
       "      <td>0.440000</td>\n",
       "      <td>12.900000</td>\n",
       "      <td>0.098000</td>\n",
       "      <td>56.000000</td>\n",
       "      <td>154.000000</td>\n",
       "      <td>0.994490</td>\n",
       "      <td>3.200000</td>\n",
       "      <td>0.590000</td>\n",
       "      <td>10.400000</td>\n",
       "      <td>1.000000</td>\n",
       "      <td>8.000000</td>\n",
       "      <td>2.000000</td>\n",
       "    </tr>\n",
       "    <tr>\n",
       "      <th>75%</th>\n",
       "      <td>12106.500000</td>\n",
       "      <td>4.000000</td>\n",
       "      <td>9.800000</td>\n",
       "      <td>0.910000</td>\n",
       "      <td>0.970000</td>\n",
       "      <td>38.700000</td>\n",
       "      <td>0.368000</td>\n",
       "      <td>172.000000</td>\n",
       "      <td>262.000000</td>\n",
       "      <td>1.000515</td>\n",
       "      <td>3.470000</td>\n",
       "      <td>1.100000</td>\n",
       "      <td>12.400000</td>\n",
       "      <td>1.000000</td>\n",
       "      <td>8.000000</td>\n",
       "      <td>3.000000</td>\n",
       "    </tr>\n",
       "    <tr>\n",
       "      <th>max</th>\n",
       "      <td>16129.000000</td>\n",
       "      <td>8.000000</td>\n",
       "      <td>34.400000</td>\n",
       "      <td>3.680000</td>\n",
       "      <td>3.860000</td>\n",
       "      <td>141.150000</td>\n",
       "      <td>1.351000</td>\n",
       "      <td>623.000000</td>\n",
       "      <td>1057.000000</td>\n",
       "      <td>1.099240</td>\n",
       "      <td>6.130000</td>\n",
       "      <td>4.240000</td>\n",
       "      <td>26.500000</td>\n",
       "      <td>2.000000</td>\n",
       "      <td>17.000000</td>\n",
       "      <td>4.000000</td>\n",
       "    </tr>\n",
       "  </tbody>\n",
       "</table>\n",
       "</div>"
      ],
      "text/plain": [
       "              INDEX        TARGET  FixedAcidity  VolatileAcidity  \\\n",
       "count  12795.000000  12795.000000  12795.000000     12795.000000   \n",
       "mean    8069.980305      3.029074      8.063251         0.641086   \n",
       "std     4656.905107      1.926368      4.996119         0.555614   \n",
       "min        1.000000      0.000000      0.000000         0.000000   \n",
       "25%     4037.500000      2.000000      5.600000         0.250000   \n",
       "50%     8110.000000      3.000000      7.000000         0.410000   \n",
       "75%    12106.500000      4.000000      9.800000         0.910000   \n",
       "max    16129.000000      8.000000     34.400000         3.680000   \n",
       "\n",
       "         CitricAcid  ResidualSugar     Chlorides  FreeSulfurDioxide  \\\n",
       "count  12795.000000   12179.000000  12157.000000       12148.000000   \n",
       "mean       0.686315      23.367809      0.222559         106.679042   \n",
       "std        0.606005      24.945667      0.234288         108.102694   \n",
       "min        0.000000       0.000000      0.000000           0.000000   \n",
       "25%        0.280000       3.600000      0.046000          28.000000   \n",
       "50%        0.440000      12.900000      0.098000          56.000000   \n",
       "75%        0.970000      38.700000      0.368000         172.000000   \n",
       "max        3.860000     141.150000      1.351000         623.000000   \n",
       "\n",
       "       TotalSulfurDioxide       Density            pH     Sulphates  \\\n",
       "count        12113.000000  12795.000000  12400.000000  11585.000000   \n",
       "mean           204.319120      0.994203      3.207628      0.846668   \n",
       "std            163.116881      0.026538      0.679687      0.655612   \n",
       "min              0.000000      0.888090      0.480000      0.000000   \n",
       "25%            100.000000      0.987720      2.960000      0.430000   \n",
       "50%            154.000000      0.994490      3.200000      0.590000   \n",
       "75%            262.000000      1.000515      3.470000      1.100000   \n",
       "max           1057.000000      1.099240      6.130000      4.240000   \n",
       "\n",
       "            Alcohol   LabelAppeal     AcidIndex        STARS  \n",
       "count  12142.000000  12795.000000  12795.000000  9436.000000  \n",
       "mean      10.523778      0.638687      7.772724     2.041755  \n",
       "std        3.629154      0.621425      1.323926     0.902540  \n",
       "min        0.000000      0.000000      4.000000     1.000000  \n",
       "25%        9.000000      0.000000      7.000000     1.000000  \n",
       "50%       10.400000      1.000000      8.000000     2.000000  \n",
       "75%       12.400000      1.000000      8.000000     3.000000  \n",
       "max       26.500000      2.000000     17.000000     4.000000  "
      ]
     },
     "execution_count": 7,
     "metadata": {},
     "output_type": "execute_result"
    }
   ],
   "source": [
    "df.describe()"
   ]
  },
  {
   "cell_type": "markdown",
   "id": "7468005f",
   "metadata": {},
   "source": [
    "- Now we have absolute values, as no attributes should be negative."
   ]
  },
  {
   "cell_type": "code",
   "execution_count": 8,
   "id": "79322ab1",
   "metadata": {},
   "outputs": [
    {
     "data": {
      "text/plain": [
       "INDEX                  0.000000\n",
       "TARGET                 0.000000\n",
       "FixedAcidity           0.000000\n",
       "VolatileAcidity        0.000000\n",
       "CitricAcid             0.000000\n",
       "ResidualSugar          4.814381\n",
       "Chlorides              4.986323\n",
       "FreeSulfurDioxide      5.056663\n",
       "TotalSulfurDioxide     5.330207\n",
       "Density                0.000000\n",
       "pH                     3.087143\n",
       "Sulphates              9.456819\n",
       "Alcohol                5.103556\n",
       "LabelAppeal            0.000000\n",
       "AcidIndex              0.000000\n",
       "STARS                 26.252442\n",
       "dtype: float64"
      ]
     },
     "execution_count": 8,
     "metadata": {},
     "output_type": "execute_result"
    }
   ],
   "source": [
    "df.isnull().mean() * 100      # To check the percentage of null values in each attributes."
   ]
  },
  {
   "cell_type": "code",
   "execution_count": 9,
   "id": "5d9bdb51",
   "metadata": {
    "scrolled": false
   },
   "outputs": [
    {
     "data": {
      "text/plain": [
       "ResidualSugar          616\n",
       "Chlorides              638\n",
       "FreeSulfurDioxide      647\n",
       "TotalSulfurDioxide     682\n",
       "pH                     395\n",
       "Sulphates             1210\n",
       "Alcohol                653\n",
       "STARS                 3359\n",
       "dtype: int64"
      ]
     },
     "execution_count": 9,
     "metadata": {},
     "output_type": "execute_result"
    }
   ],
   "source": [
    "df.isnull().sum()[df.isnull().sum() > 0]     # Check the count of Null values, where the null values are present."
   ]
  },
  {
   "cell_type": "markdown",
   "id": "9fad4fe6",
   "metadata": {},
   "source": [
    "#### Dealing with null values."
   ]
  },
  {
   "cell_type": "code",
   "execution_count": 42,
   "id": "ef7780ab",
   "metadata": {},
   "outputs": [],
   "source": [
    "def box_dist_plot(data, column):\n",
    "    plt.figure(figsize=(18, 7))                    # to set the figure size\n",
    "    \n",
    "    plt.subplot(121)                               \n",
    "    sns.boxplot(data[column])                      # to create box plot\n",
    "    \n",
    "    plt.subplot(122)\n",
    "    sns.distplot(data[column])                     # to create distribution plot\n",
    "    \n",
    "    plt.show()\n",
    "    \n",
    "    print(data[column].describe())\n",
    "    print('Total Num of null values:', data[column].isnull().sum(),'count' ,',',\n",
    "          round(data[column].isnull().mean()*100,2), '%')\n",
    "    "
   ]
  },
  {
   "cell_type": "markdown",
   "id": "b15b60a4",
   "metadata": {},
   "source": [
    "---------------------------------------------------------------------------------------\n",
    "When to use which type of Central Tendency\n",
    "- Mean   → Data is numerical, symmetric a hame no outlers.\n",
    "- Median → Data is numerical and skewed or having outliers.\n",
    "- Mode   → Used with categorical data, can be used with numerical data also. \n",
    "---------------------------------------------------------------------------------------"
   ]
  },
  {
   "cell_type": "markdown",
   "id": "deeb66d6",
   "metadata": {},
   "source": [
    "##### Deal with Null Values of 'ResidualSugar'"
   ]
  },
  {
   "cell_type": "code",
   "execution_count": 43,
   "id": "96fb9d27",
   "metadata": {},
   "outputs": [
    {
     "data": {
      "image/png": "[encoded data removed]",
      "text/plain": [
       "<Figure size 1296x504 with 2 Axes>"
      ]
     },
     "metadata": {
      "needs_background": "light"
     },
     "output_type": "display_data"
    },
    {
     "name": "stdout",
     "output_type": "stream",
     "text": [
      "count    12179.000000\n",
      "mean        23.367809\n",
      "std         24.945667\n",
      "min          0.000000\n",
      "25%          3.600000\n",
      "50%         12.900000\n",
      "75%         38.700000\n",
      "max        141.150000\n",
      "Name: ResidualSugar, dtype: float64\n",
      "Total Num of null values: 616 count , 4.81 %\n"
     ]
    }
   ],
   "source": [
    "box_dist_plot(df, 'ResidualSugar')"
   ]
  },
  {
   "cell_type": "markdown",
   "id": "78531872",
   "metadata": {},
   "source": [
    "-----------------\n",
    "When to use which type of Central Tendency\n",
    "- Mean   → Data is numerical, symmetric a hame no outlers.\n",
    "- Median → Data is numerical and skewed or having outliers.\n",
    "- Mode   → Used with categorical data, can be used with numerical data also. \n",
    "----------------"
   ]
  },
  {
   "cell_type": "markdown",
   "id": "e6cb9be5",
   "metadata": {},
   "source": [
    "##### Deal with Null Values of 'Chlorides'"
   ]
  },
  {
   "cell_type": "code",
   "execution_count": 44,
   "id": "61c7fd97",
   "metadata": {},
   "outputs": [
    {
     "data": {
      "image/png": "[encoded data removed]",
      "text/plain": [
       "<Figure size 1296x504 with 2 Axes>"
      ]
     },
     "metadata": {
      "needs_background": "light"
     },
     "output_type": "display_data"
    },
    {
     "name": "stdout",
     "output_type": "stream",
     "text": [
      "count    12157.000000\n",
      "mean         0.222559\n",
      "std          0.234288\n",
      "min          0.000000\n",
      "25%          0.046000\n",
      "50%          0.098000\n",
      "75%          0.368000\n",
      "max          1.351000\n",
      "Name: Chlorides, dtype: float64\n",
      "Total Num of null values: 638 count , 4.99 %\n"
     ]
    }
   ],
   "source": [
    "box_dist_plot(df, 'Chlorides')"
   ]
  },
  {
   "cell_type": "markdown",
   "id": "d7c5ccaa",
   "metadata": {},
   "source": [
    "##### Deal with Null Values of 'FreeSulfurDioxide'"
   ]
  },
  {
   "cell_type": "code",
   "execution_count": 45,
   "id": "f5856c8e",
   "metadata": {},
   "outputs": [
    {
     "data": {
      "image/png": "[encoded data removed]",
      "text/plain": [
       "<Figure size 1296x504 with 2 Axes>"
      ]
     },
     "metadata": {
      "needs_background": "light"
     },
     "output_type": "display_data"
    },
    {
     "name": "stdout",
     "output_type": "stream",
     "text": [
      "count    12148.000000\n",
      "mean       106.679042\n",
      "std        108.102694\n",
      "min          0.000000\n",
      "25%         28.000000\n",
      "50%         56.000000\n",
      "75%        172.000000\n",
      "max        623.000000\n",
      "Name: FreeSulfurDioxide, dtype: float64\n",
      "Total Num of null values: 647 count , 5.06 %\n"
     ]
    }
   ],
   "source": [
    "box_dist_plot(df, 'FreeSulfurDioxide')"
   ]
  },
  {
   "cell_type": "markdown",
   "id": "6d482414",
   "metadata": {},
   "source": [
    "##### Deal with Null Values of 'TotalSulfurDioxide'"
   ]
  },
  {
   "cell_type": "code",
   "execution_count": 46,
   "id": "ffaf0fd7",
   "metadata": {},
   "outputs": [
    {
     "data": {
      "image/png": "[encoded data removed]",
      "text/plain": [
       "<Figure size 1296x504 with 2 Axes>"
      ]
     },
     "metadata": {
      "needs_background": "light"
     },
     "output_type": "display_data"
    },
    {
     "name": "stdout",
     "output_type": "stream",
     "text": [
      "count    12113.000000\n",
      "mean       204.319120\n",
      "std        163.116881\n",
      "min          0.000000\n",
      "25%        100.000000\n",
      "50%        154.000000\n",
      "75%        262.000000\n",
      "max       1057.000000\n",
      "Name: TotalSulfurDioxide, dtype: float64\n",
      "Total Num of null values: 682 count , 5.33 %\n"
     ]
    }
   ],
   "source": [
    "box_dist_plot(df, 'TotalSulfurDioxide')"
   ]
  },
  {
   "cell_type": "markdown",
   "id": "d731e14b",
   "metadata": {},
   "source": [
    "##### Deal with Null Values of 'pH'"
   ]
  },
  {
   "cell_type": "code",
   "execution_count": 47,
   "id": "3d8c82e0",
   "metadata": {},
   "outputs": [
    {
     "data": {
      "image/png": "[encoded data removed]",
      "text/plain": [
       "<Figure size 1296x504 with 2 Axes>"
      ]
     },
     "metadata": {
      "needs_background": "light"
     },
     "output_type": "display_data"
    },
    {
     "name": "stdout",
     "output_type": "stream",
     "text": [
      "count    12400.000000\n",
      "mean         3.207628\n",
      "std          0.679687\n",
      "min          0.480000\n",
      "25%          2.960000\n",
      "50%          3.200000\n",
      "75%          3.470000\n",
      "max          6.130000\n",
      "Name: pH, dtype: float64\n",
      "Total Num of null values: 395 count , 3.09 %\n"
     ]
    }
   ],
   "source": [
    "box_dist_plot(df, 'pH')"
   ]
  },
  {
   "cell_type": "markdown",
   "id": "ef0a5f1f",
   "metadata": {},
   "source": [
    "##### Deal with Null Values of 'Sulphates'"
   ]
  },
  {
   "cell_type": "code",
   "execution_count": 48,
   "id": "35f23a29",
   "metadata": {},
   "outputs": [
    {
     "data": {
      "image/png": "[encoded data removed]",
      "text/plain": [
       "<Figure size 1296x504 with 2 Axes>"
      ]
     },
     "metadata": {
      "needs_background": "light"
     },
     "output_type": "display_data"
    },
    {
     "name": "stdout",
     "output_type": "stream",
     "text": [
      "count    11585.000000\n",
      "mean         0.846668\n",
      "std          0.655612\n",
      "min          0.000000\n",
      "25%          0.430000\n",
      "50%          0.590000\n",
      "75%          1.100000\n",
      "max          4.240000\n",
      "Name: Sulphates, dtype: float64\n",
      "Total Num of null values: 1210 count , 9.46 %\n"
     ]
    }
   ],
   "source": [
    "box_dist_plot(df, 'Sulphates')"
   ]
  },
  {
   "cell_type": "markdown",
   "id": "a626092e",
   "metadata": {},
   "source": [
    "##### Deal with Null Values of 'Alcohol'"
   ]
  },
  {
   "cell_type": "code",
   "execution_count": 49,
   "id": "e221a6b9",
   "metadata": {},
   "outputs": [
    {
     "data": {
      "image/png": "[encoded data removed]",
      "text/plain": [
       "<Figure size 1296x504 with 2 Axes>"
      ]
     },
     "metadata": {
      "needs_background": "light"
     },
     "output_type": "display_data"
    },
    {
     "name": "stdout",
     "output_type": "stream",
     "text": [
      "count    12142.000000\n",
      "mean        10.523778\n",
      "std          3.629154\n",
      "min          0.000000\n",
      "25%          9.000000\n",
      "50%         10.400000\n",
      "75%         12.400000\n",
      "max         26.500000\n",
      "Name: Alcohol, dtype: float64\n",
      "Total Num of null values: 653 count , 5.1 %\n"
     ]
    }
   ],
   "source": [
    "box_dist_plot(df, 'Alcohol')"
   ]
  },
  {
   "cell_type": "markdown",
   "id": "78927d59",
   "metadata": {},
   "source": [
    "##### Deal with Null Values of 'STARS'"
   ]
  },
  {
   "cell_type": "code",
   "execution_count": 50,
   "id": "1736a8aa",
   "metadata": {},
   "outputs": [
    {
     "data": {
      "image/png": "[encoded data removed]",
      "text/plain": [
       "<Figure size 1296x504 with 2 Axes>"
      ]
     },
     "metadata": {
      "needs_background": "light"
     },
     "output_type": "display_data"
    },
    {
     "name": "stdout",
     "output_type": "stream",
     "text": [
      "count    9436.000000\n",
      "mean        2.041755\n",
      "std         0.902540\n",
      "min         1.000000\n",
      "25%         1.000000\n",
      "50%         2.000000\n",
      "75%         3.000000\n",
      "max         4.000000\n",
      "Name: STARS, dtype: float64\n",
      "Total Num of null values: 3359 count , 26.25 %\n"
     ]
    }
   ],
   "source": [
    "box_dist_plot(df, 'STARS')"
   ]
  },
  {
   "cell_type": "code",
   "execution_count": null,
   "id": "4dbfd773",
   "metadata": {},
   "outputs": [],
   "source": []
  },
  {
   "cell_type": "code",
   "execution_count": null,
   "id": "6c824e73",
   "metadata": {},
   "outputs": [],
   "source": []
  },
  {
   "cell_type": "code",
   "execution_count": null,
   "id": "5dd8c058",
   "metadata": {},
   "outputs": [],
   "source": []
  },
  {
   "cell_type": "code",
   "execution_count": null,
   "id": "538cc706",
   "metadata": {},
   "outputs": [],
   "source": []
  },
  {
   "cell_type": "code",
   "execution_count": null,
   "id": "4a0bbb7d",
   "metadata": {},
   "outputs": [],
   "source": [
    "# pip install --upgrade seaborn matplotlib numpy"
   ]
  },
  {
   "cell_type": "code",
   "execution_count": null,
   "id": "0f2cb3fa",
   "metadata": {},
   "outputs": [],
   "source": []
  },
  {
   "cell_type": "code",
   "execution_count": null,
   "id": "5bb7e524",
   "metadata": {},
   "outputs": [],
   "source": []
  }
 ],
 "metadata": {
  "kernelspec": {
   "display_name": "Python 3",
   "language": "python",
   "name": "python3"
  },
  "language_info": {
   "codemirror_mode": {
    "name": "ipython",
    "version": 3
   },
   "file_extension": ".py",
   "mimetype": "text/x-python",
   "name": "python",
   "nbconvert_exporter": "python",
   "pygments_lexer": "ipython3",
   "version": "3.8.8"
  }
 },
 "nbformat": 4,
 "nbformat_minor": 5
}
