{
 "cells": [
  {
   "cell_type": "markdown",
   "id": "70e1d85b",
   "metadata": {},
   "source": [
    "### <CENTER><h1><u>Classification Model Performance Metrics</u></CENTER></h1>\n",
    "\n",
    "<br>\n",
    "\n",
    "<CENTER>(TEAM CONTRIBUTORS: BITTERLEIN KONNOTH BIJU, SHASHANK SHEKHAR, CHAITANYA DEVARSHI)</CENTER>\n",
    "\n",
    "-------\n",
    "-------"
   ]
  },
  {
   "cell_type": "markdown",
   "id": "a2a8d808",
   "metadata": {},
   "source": [
    "<h2><u>Content</u></h2>\n",
    "\n",
    "[Pre Knowledge](#Pre-Knowledge)\n",
    "\n",
    "1. [Introduction](#1.-Introduction)\n",
    "\n",
    "- a. [Problem Statement](#a.-Problem-Statement)\n",
    "- b. [Methodology](#b.-Methodology)\n",
    "\n",
    "2. [Data Loading & Manipulation](#2.-Data-Loading)\n",
    "\n",
    "\n",
    "3. [Accuracy](#3.-Accuracy)\n",
    "\n",
    "\n",
    "4. [Precision](#4.-Precision)\n",
    "\n",
    "\n",
    "5. [Sensitivity](#5.-Sensitivity)\n",
    "\n",
    "\n",
    "6. [Specificity](#6.-Specificity)\n",
    "\n",
    "\n",
    "7. [F1 Score](#7.-F1-Score)\n",
    "\n",
    "\n",
    "8. [Roc Curve](#8.-Roc-Curve)\n",
    "\n",
    "\n",
    "9. [AUC Function](#9.-AUC-Function)\n",
    "\n",
    "\n",
    "10. [Clasification Matrix](#10.-Clasification-Matrix)\n",
    "\n",
    "\n",
    "11. [Comparision](#11.-Comparision)\n",
    "\n",
    "\n",
    "12. [Prebuilt ROC & AUC](#Prebuilt-ROC-&-AUC)\n",
    "\n",
    "\n",
    "\n",
    "[Conclusion](#Conclusion)\n"
   ]
  },
  {
   "cell_type": "markdown",
   "id": "a6c048ad",
   "metadata": {},
   "source": [
    "----"
   ]
  },
  {
   "cell_type": "code",
   "execution_count": null,
   "id": "c4c64dda",
   "metadata": {},
   "outputs": [],
   "source": []
  },
  {
   "cell_type": "markdown",
   "id": "d1929673",
   "metadata": {},
   "source": [
    "## Pre Knowledge"
   ]
  },
  {
   "cell_type": "markdown",
   "id": "59a8eb29",
   "metadata": {},
   "source": []
  },
  {
   "cell_type": "markdown",
   "id": "e65f8bd0",
   "metadata": {},
   "source": [
    "----"
   ]
  },
  {
   "cell_type": "markdown",
   "id": "c1e7045c",
   "metadata": {},
   "source": [
    "<b> [Back to Content](#Content) </b>"
   ]
  },
  {
   "cell_type": "code",
   "execution_count": null,
   "id": "16c7650e",
   "metadata": {},
   "outputs": [],
   "source": []
  },
  {
   "cell_type": "markdown",
   "id": "f28efd04",
   "metadata": {},
   "source": [
    "## 1. Introduction"
   ]
  },
  {
   "cell_type": "markdown",
   "id": "9dc6021c",
   "metadata": {},
   "source": []
  },
  {
   "cell_type": "markdown",
   "id": "c5617614",
   "metadata": {},
   "source": [
    "----"
   ]
  },
  {
   "cell_type": "markdown",
   "id": "8475a685",
   "metadata": {},
   "source": [
    "<b> [Back to Content](#Content) </b>"
   ]
  },
  {
   "cell_type": "code",
   "execution_count": null,
   "id": "94be543f",
   "metadata": {},
   "outputs": [],
   "source": []
  },
  {
   "cell_type": "markdown",
   "id": "f2384cb1",
   "metadata": {},
   "source": [
    "### a. Problem Statement"
   ]
  },
  {
   "cell_type": "markdown",
   "id": "a877f858",
   "metadata": {},
   "source": []
  },
  {
   "cell_type": "markdown",
   "id": "38dd96fe",
   "metadata": {},
   "source": [
    "----"
   ]
  },
  {
   "cell_type": "markdown",
   "id": "ee96303a",
   "metadata": {},
   "source": [
    "<b> [Back to Content](#Content) </b>"
   ]
  },
  {
   "cell_type": "code",
   "execution_count": null,
   "id": "9c8f6f16",
   "metadata": {},
   "outputs": [],
   "source": []
  },
  {
   "cell_type": "markdown",
   "id": "9f244a7b",
   "metadata": {},
   "source": [
    "### b. Methodology"
   ]
  },
  {
   "cell_type": "markdown",
   "id": "18ad0137",
   "metadata": {},
   "source": []
  },
  {
   "cell_type": "markdown",
   "id": "c7d9dc95",
   "metadata": {},
   "source": [
    "----"
   ]
  },
  {
   "cell_type": "markdown",
   "id": "e6f7cd81",
   "metadata": {},
   "source": [
    "<b> [Back to Content](#Content) </b>"
   ]
  },
  {
   "cell_type": "code",
   "execution_count": null,
   "id": "56b4617c",
   "metadata": {},
   "outputs": [],
   "source": []
  },
  {
   "cell_type": "markdown",
   "id": "2d4e597f",
   "metadata": {},
   "source": [
    "## 2. Data Loading"
   ]
  },
  {
   "cell_type": "markdown",
   "id": "ea82d5bd",
   "metadata": {},
   "source": []
  },
  {
   "cell_type": "code",
   "execution_count": null,
   "id": "e002e6bd",
   "metadata": {},
   "outputs": [],
   "source": []
  },
  {
   "cell_type": "markdown",
   "id": "787ae04d",
   "metadata": {},
   "source": [
    "----"
   ]
  },
  {
   "cell_type": "markdown",
   "id": "14386b4e",
   "metadata": {},
   "source": [
    "<b> [Back to Content](#Content) </b>"
   ]
  },
  {
   "cell_type": "markdown",
   "id": "f65febec",
   "metadata": {},
   "source": [
    "## 3. Accuracy"
   ]
  },
  {
   "cell_type": "markdown",
   "id": "d84e2b42",
   "metadata": {},
   "source": []
  },
  {
   "cell_type": "code",
   "execution_count": null,
   "id": "76fd995b",
   "metadata": {},
   "outputs": [],
   "source": []
  },
  {
   "cell_type": "markdown",
   "id": "1ffb42f6",
   "metadata": {},
   "source": [
    "---"
   ]
  },
  {
   "cell_type": "markdown",
   "id": "7c12451c",
   "metadata": {},
   "source": [
    "<b> [Back to Content](#Content) </b>"
   ]
  },
  {
   "cell_type": "markdown",
   "id": "21c7ae0d",
   "metadata": {},
   "source": [
    "## 4. Precision"
   ]
  },
  {
   "cell_type": "markdown",
   "id": "272858a8",
   "metadata": {},
   "source": []
  },
  {
   "cell_type": "code",
   "execution_count": null,
   "id": "79712d68",
   "metadata": {},
   "outputs": [],
   "source": []
  },
  {
   "cell_type": "markdown",
   "id": "d67eb8ad",
   "metadata": {},
   "source": [
    "----"
   ]
  },
  {
   "cell_type": "markdown",
   "id": "fcb10716",
   "metadata": {},
   "source": [
    "<b> [Back to Content](#Content) </b>"
   ]
  },
  {
   "cell_type": "markdown",
   "id": "196a8726",
   "metadata": {},
   "source": [
    "## 5. Sensitivity"
   ]
  },
  {
   "cell_type": "markdown",
   "id": "9457d593",
   "metadata": {},
   "source": []
  },
  {
   "cell_type": "code",
   "execution_count": null,
   "id": "4289461b",
   "metadata": {},
   "outputs": [],
   "source": []
  },
  {
   "cell_type": "markdown",
   "id": "933ef15c",
   "metadata": {},
   "source": [
    "----"
   ]
  },
  {
   "cell_type": "markdown",
   "id": "477a7d67",
   "metadata": {},
   "source": [
    "<b> [Back to Content](#Content) </b>"
   ]
  },
  {
   "cell_type": "markdown",
   "id": "5cdfa19d",
   "metadata": {},
   "source": [
    "## 6. Specificity"
   ]
  },
  {
   "cell_type": "markdown",
   "id": "3a22411a",
   "metadata": {},
   "source": []
  },
  {
   "cell_type": "code",
   "execution_count": null,
   "id": "b98be542",
   "metadata": {},
   "outputs": [],
   "source": []
  },
  {
   "cell_type": "markdown",
   "id": "8a7c410f",
   "metadata": {},
   "source": [
    "---"
   ]
  },
  {
   "cell_type": "markdown",
   "id": "2cd0b8df",
   "metadata": {},
   "source": [
    "<b> [Back to Content](#Content) </b>"
   ]
  },
  {
   "cell_type": "markdown",
   "id": "008c45cd",
   "metadata": {},
   "source": [
    "## 7. F1 Score"
   ]
  },
  {
   "cell_type": "code",
   "execution_count": null,
   "id": "ab648886",
   "metadata": {},
   "outputs": [],
   "source": []
  },
  {
   "cell_type": "markdown",
   "id": "e949c853",
   "metadata": {},
   "source": [
    "---"
   ]
  },
  {
   "cell_type": "markdown",
   "id": "e46c6481",
   "metadata": {},
   "source": [
    "<b> [Back to Content](#Content) </b>"
   ]
  },
  {
   "cell_type": "markdown",
   "id": "10d8fadf",
   "metadata": {},
   "source": [
    "## 8. ROC Curve"
   ]
  },
  {
   "cell_type": "code",
   "execution_count": null,
   "id": "831117b1",
   "metadata": {},
   "outputs": [],
   "source": []
  },
  {
   "cell_type": "markdown",
   "id": "bd8490fa",
   "metadata": {},
   "source": [
    "---"
   ]
  },
  {
   "cell_type": "markdown",
   "id": "a748c093",
   "metadata": {},
   "source": [
    "<b> [Back to Content](#Content) </b>"
   ]
  },
  {
   "cell_type": "markdown",
   "id": "c03ca7ec",
   "metadata": {},
   "source": [
    "## 9. AUC Function"
   ]
  },
  {
   "cell_type": "code",
   "execution_count": null,
   "id": "36899423",
   "metadata": {},
   "outputs": [],
   "source": []
  },
  {
   "cell_type": "markdown",
   "id": "57a1223d",
   "metadata": {},
   "source": [
    "----"
   ]
  },
  {
   "cell_type": "markdown",
   "id": "5f8a7662",
   "metadata": {},
   "source": [
    "<b> [Back to Content](#Content) </b>"
   ]
  },
  {
   "cell_type": "markdown",
   "id": "adcad0ee",
   "metadata": {},
   "source": [
    "## 10. Clasification Matrix\n",
    "\n",
    "(specified in steps 5 through 9)"
   ]
  },
  {
   "cell_type": "code",
   "execution_count": null,
   "id": "e28c69c3",
   "metadata": {},
   "outputs": [],
   "source": []
  },
  {
   "cell_type": "markdown",
   "id": "30dbcff9",
   "metadata": {},
   "source": [
    "---"
   ]
  },
  {
   "cell_type": "markdown",
   "id": "d29e5f50",
   "metadata": {},
   "source": [
    "<b> [Back to Content](#Content) </b>"
   ]
  },
  {
   "cell_type": "markdown",
   "id": "0504bebc",
   "metadata": {},
   "source": [
    "## 11. Comparision \n",
    "\n",
    "(Our functions with Per-built functions)"
   ]
  },
  {
   "cell_type": "code",
   "execution_count": null,
   "id": "779f0eab",
   "metadata": {},
   "outputs": [],
   "source": []
  },
  {
   "cell_type": "markdown",
   "id": "42cdbcb7",
   "metadata": {},
   "source": [
    "---"
   ]
  },
  {
   "cell_type": "markdown",
   "id": "455246b6",
   "metadata": {},
   "source": [
    "<b> [Back to Content](#Content) </b>"
   ]
  },
  {
   "cell_type": "markdown",
   "id": "fe0c7263",
   "metadata": {},
   "source": [
    "## 12. Prebuilt ROC & AUC"
   ]
  },
  {
   "cell_type": "code",
   "execution_count": null,
   "id": "a7bbd487",
   "metadata": {},
   "outputs": [],
   "source": []
  },
  {
   "cell_type": "markdown",
   "id": "7d8a30c0",
   "metadata": {},
   "source": [
    "---"
   ]
  },
  {
   "cell_type": "markdown",
   "id": "2fe668bd",
   "metadata": {},
   "source": [
    "<b> [Back to Content](#Content) </b>"
   ]
  },
  {
   "cell_type": "code",
   "execution_count": null,
   "id": "ef16f925",
   "metadata": {},
   "outputs": [],
   "source": []
  },
  {
   "cell_type": "markdown",
   "id": "7504a273",
   "metadata": {},
   "source": [
    "## Conclusion"
   ]
  },
  {
   "cell_type": "code",
   "execution_count": null,
   "id": "5a35d978",
   "metadata": {},
   "outputs": [],
   "source": []
  },
  {
   "cell_type": "markdown",
   "id": "6a4b341e",
   "metadata": {},
   "source": [
    "----"
   ]
  },
  {
   "cell_type": "markdown",
   "id": "afff6765",
   "metadata": {},
   "source": [
    "<b> [Back to Top](#Content) </b>"
   ]
  },
  {
   "cell_type": "code",
   "execution_count": null,
   "id": "adc1d892",
   "metadata": {},
   "outputs": [],
   "source": []
  },
  {
   "cell_type": "code",
   "execution_count": null,
   "id": "c75d71cc",
   "metadata": {},
   "outputs": [],
   "source": []
  },
  {
   "cell_type": "code",
   "execution_count": null,
   "id": "6af415bd",
   "metadata": {},
   "outputs": [],
   "source": []
  }
 ],
 "metadata": {
  "kernelspec": {
   "display_name": "Python 3",
   "language": "python",
   "name": "python3"
  },
  "language_info": {
   "codemirror_mode": {
    "name": "ipython",
    "version": 3
   },
   "file_extension": ".py",
   "mimetype": "text/x-python",
   "name": "python",
   "nbconvert_exporter": "python",
   "pygments_lexer": "ipython3",
   "version": "3.8.8"
  }
 },
 "nbformat": 4,
 "nbformat_minor": 5
}
