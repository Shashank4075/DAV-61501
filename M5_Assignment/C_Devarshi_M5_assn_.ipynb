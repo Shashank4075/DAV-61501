{
 "cells": [
  {
   "cell_type": "markdown",
   "id": "65198f2e",
   "metadata": {},
   "source": [
    "### <CENTER><h1><u>Classification Model Performance Metrics</u></CENTER></h1>\n",
    "\n",
    "<br>\n",
    "\n",
    "<CENTER>(TEAM CONTRIBUTORS: SHASHANK SHEKHAR, BITTERLEIN KONNOTH BIJU, CHAITANYA DEVARSHI)</CENTER>\n",
    "\n",
    "-------\n",
    "-------"
   ]
  },
  {
   "cell_type": "markdown",
   "id": "e5d09cd9",
   "metadata": {},
   "source": [
    "<h2><u>Content</u></h2>\n",
    "\n",
    "[Pre Knowledge](#Pre-Knowledge)\n",
    "\n",
    "1. [Introduction](#1.-Introduction)\n",
    "\n",
    "- 1.1 [Problem Statement](#1.1-Problem-Statement)\n",
    "- 1.2 [Methodology](#1.2-Methodology)\n",
    "\n",
    "2. [Data Loading & Manipulation](#2.-Data-Loading)\n",
    "\n",
    "- 2.1 [Read the Data](#2.1-Read-the-Data)\n",
    "- 2.2 [Data In Usable form](#2.2-Data-In-Usable-Form)\n",
    "\n",
    "\n",
    "3. [Accuracy](#3.-Accuracy)\n",
    "\n",
    "\n",
    "4. [Precision](#4.-Precision)\n",
    "\n",
    "\n",
    "5. [Sensitivity](#5.-Sensitivity)\n",
    "\n",
    "\n",
    "6. [Specificity](#6.-Specificity)\n",
    "\n",
    "\n",
    "7. [F1 Score](#7.-F1-Score)\n",
    "\n",
    "\n",
    "8. [Roc Curve](#8.-Roc-Curve)\n",
    "\n",
    "\n",
    "9. [AUC Function](#9.-AUC-Function)\n",
    "\n",
    "\n",
    "10. [Clasification Matrix](#10.-Clasification-Matrix)\n",
    "\n",
    "\n",
    "11. [Comparision](#11.-Comparision)\n",
    "\n",
    "\n",
    "12. [Prebuilt ROC & AUC](#Prebuilt-ROC-&-AUC)\n",
    "\n",
    "\n",
    "\n",
    "[Conclusion](#Conclusion)\n"
   ]
  },
  {
   "cell_type": "markdown",
   "id": "1c956bda",
   "metadata": {},
   "source": [
    "----\n",
    "----\n",
    "----"
   ]
  },
  {
   "cell_type": "markdown",
   "id": "6edbe4b6",
   "metadata": {},
   "source": [
    "## Pre Knowledge"
   ]
  },
  {
   "attachments": {},
   "cell_type": "markdown",
   "id": "2cef84c9",
   "metadata": {},
   "source": [
    "**MOC(Minute of Class 😊)**\n",
    "\n",
    "1. `Bias VS Variance`\n",
    " - <u>Bias</u> -> It is an avg(measure) of farness of models' prediction from the actual value for the response variable. ⬆️High <i>Bias</i> indicates model is <i>Underfitting</i>. To ⬇️reduce high bias __increase the complexity of our model__.\n",
    " - <u>Variance</u> -> It shows how much predictions for the same point change between different models. ⬆️High <i>Variance</i> indicates model is <i>Overfitting</i>. To ⬇️reduce high variance __decrease the complexity of our model__.\n",
    " - <b><i>Note</i></b> -> __⬇️decreasing model bias__ usually __⬆️increases model variance (and vice-versa)__ , so we have to maintain a balance between two, and so on the model should perform well to avoid underfitting/overfitting of our training data. \n"
   ]
  },
  {
   "cell_type": "markdown",
   "id": "bfb6ff3a",
   "metadata": {},
   "source": [
    "----"
   ]
  },
  {
   "cell_type": "markdown",
   "id": "403f3373",
   "metadata": {},
   "source": [
    "<b> [Back to Content](#Content) </b>"
   ]
  },
  {
   "cell_type": "code",
   "execution_count": null,
   "id": "6b77008b",
   "metadata": {},
   "outputs": [],
   "source": []
  },
  {
   "cell_type": "markdown",
   "id": "3574e834",
   "metadata": {},
   "source": [
    "## 1. Introduction"
   ]
  },
  {
   "cell_type": "markdown",
   "id": "552bb728",
   "metadata": {},
   "source": []
  },
  {
   "cell_type": "markdown",
   "id": "52243fc1",
   "metadata": {},
   "source": [
    "----"
   ]
  },
  {
   "cell_type": "markdown",
   "id": "29cf10b2",
   "metadata": {},
   "source": [
    "<b> [Back to Content](#Content) </b>"
   ]
  },
  {
   "cell_type": "code",
   "execution_count": null,
   "id": "622d830e",
   "metadata": {},
   "outputs": [],
   "source": []
  },
  {
   "cell_type": "markdown",
   "id": "5f82ac4c",
   "metadata": {},
   "source": [
    "### 1.1 Problem Statement"
   ]
  },
  {
   "cell_type": "markdown",
   "id": "373cc03a",
   "metadata": {},
   "source": []
  },
  {
   "cell_type": "markdown",
   "id": "f853a1e0",
   "metadata": {},
   "source": [
    "----"
   ]
  },
  {
   "cell_type": "markdown",
   "id": "f88ce5f0",
   "metadata": {},
   "source": [
    "<b> [Back to Content](#Content) </b>"
   ]
  },
  {
   "cell_type": "code",
   "execution_count": null,
   "id": "a1f0f348",
   "metadata": {},
   "outputs": [],
   "source": []
  },
  {
   "cell_type": "markdown",
   "id": "0f070daf",
   "metadata": {},
   "source": [
    "### 1.2 Methodology"
   ]
  },
  {
   "cell_type": "markdown",
   "id": "e233af9a",
   "metadata": {},
   "source": [
    "To address this assignment, we will follow these below steps :-\n",
    "\n",
    "1. **Load the dataset**: Upload the `M5_Data.csv` file from the DAV 6150 Github Repository.\n",
    "\n",
    "2. **Read the dataset**: Using a Jupyter Notebook, read the dataset from the respective Github repository and load it into a Pandas DataFrame.\n",
    "\n",
    "3. ****: \n",
    "\n",
    "4. ****: \n",
    "\n",
    "5. ****: \n",
    "\n",
    "6. ****: \n",
    "\n",
    "7. ****: \n",
    "\n",
    "8. ****: \n",
    "\n",
    "9. ****: \n",
    "\n",
    "10. ****: \n",
    "\n",
    "11. ****: "
   ]
  },
  {
   "cell_type": "markdown",
   "id": "ed5dcc45",
   "metadata": {},
   "source": [
    "----"
   ]
  },
  {
   "cell_type": "markdown",
   "id": "468c7492",
   "metadata": {},
   "source": [
    "<b> [Back to Content](#Content) </b>"
   ]
  },
  {
   "cell_type": "code",
   "execution_count": null,
   "id": "e30b540c",
   "metadata": {},
   "outputs": [],
   "source": []
  },
  {
   "cell_type": "markdown",
   "id": "eb7301d4",
   "metadata": {},
   "source": [
    "## 2. Data Loading"
   ]
  },
  {
   "cell_type": "markdown",
   "id": "d1a69dab",
   "metadata": {},
   "source": []
  },
  {
   "cell_type": "code",
   "execution_count": 1,
   "id": "78d861f4",
   "metadata": {},
   "outputs": [],
   "source": [
    "# Importing basic Libraries.\n",
    "\n",
    "import pandas as pd \n",
    "import numpy as np\n",
    "\n",
    "# Importing stats for statistical analysis.\n",
    "\n",
    "import statsmodels.api as sm\n",
    "from scipy import stats\n",
    "\n",
    "# Importing Libraries for ploting the graphs.\n",
    "\n",
    "import matplotlib.pyplot as plt\n",
    "import seaborn as sns\n",
    "\n",
    "# Importing filterwarnings from warnings to ignore warnings.\n",
    "\n",
    "import warnings\n",
    "warnings.filterwarnings(\"ignore\")"
   ]
  },
  {
   "cell_type": "markdown",
   "id": "d72b65e2",
   "metadata": {},
   "source": [
    "### 2.1 Read the Data"
   ]
  },
  {
   "cell_type": "code",
   "execution_count": 43,
   "id": "9dc2b09e",
   "metadata": {
    "scrolled": true
   },
   "outputs": [
    {
     "data": {
      "text/html": [
       "<div>\n",
       "<style scoped>\n",
       "    .dataframe tbody tr th:only-of-type {\n",
       "        vertical-align: middle;\n",
       "    }\n",
       "\n",
       "    .dataframe tbody tr th {\n",
       "        vertical-align: top;\n",
       "    }\n",
       "\n",
       "    .dataframe thead th {\n",
       "        text-align: right;\n",
       "    }\n",
       "</style>\n",
       "<table border=\"1\" class=\"dataframe\">\n",
       "  <thead>\n",
       "    <tr style=\"text-align: right;\">\n",
       "      <th></th>\n",
       "      <th>pregnant</th>\n",
       "      <th>glucose</th>\n",
       "      <th>diastolic</th>\n",
       "      <th>skinfold</th>\n",
       "      <th>insulin</th>\n",
       "      <th>bmi</th>\n",
       "      <th>pedigree</th>\n",
       "      <th>age</th>\n",
       "      <th>class</th>\n",
       "      <th>scored.class</th>\n",
       "      <th>scored.probability</th>\n",
       "    </tr>\n",
       "  </thead>\n",
       "  <tbody>\n",
       "    <tr>\n",
       "      <th>0</th>\n",
       "      <td>7</td>\n",
       "      <td>124</td>\n",
       "      <td>70</td>\n",
       "      <td>33</td>\n",
       "      <td>215</td>\n",
       "      <td>25.5</td>\n",
       "      <td>0.161</td>\n",
       "      <td>37</td>\n",
       "      <td>0</td>\n",
       "      <td>0</td>\n",
       "      <td>0.328452</td>\n",
       "    </tr>\n",
       "    <tr>\n",
       "      <th>1</th>\n",
       "      <td>2</td>\n",
       "      <td>122</td>\n",
       "      <td>76</td>\n",
       "      <td>27</td>\n",
       "      <td>200</td>\n",
       "      <td>35.9</td>\n",
       "      <td>0.483</td>\n",
       "      <td>26</td>\n",
       "      <td>0</td>\n",
       "      <td>0</td>\n",
       "      <td>0.273190</td>\n",
       "    </tr>\n",
       "    <tr>\n",
       "      <th>2</th>\n",
       "      <td>3</td>\n",
       "      <td>107</td>\n",
       "      <td>62</td>\n",
       "      <td>13</td>\n",
       "      <td>48</td>\n",
       "      <td>22.9</td>\n",
       "      <td>0.678</td>\n",
       "      <td>23</td>\n",
       "      <td>1</td>\n",
       "      <td>0</td>\n",
       "      <td>0.109660</td>\n",
       "    </tr>\n",
       "    <tr>\n",
       "      <th>3</th>\n",
       "      <td>1</td>\n",
       "      <td>91</td>\n",
       "      <td>64</td>\n",
       "      <td>24</td>\n",
       "      <td>0</td>\n",
       "      <td>29.2</td>\n",
       "      <td>0.192</td>\n",
       "      <td>21</td>\n",
       "      <td>0</td>\n",
       "      <td>0</td>\n",
       "      <td>0.055998</td>\n",
       "    </tr>\n",
       "    <tr>\n",
       "      <th>4</th>\n",
       "      <td>4</td>\n",
       "      <td>83</td>\n",
       "      <td>86</td>\n",
       "      <td>19</td>\n",
       "      <td>0</td>\n",
       "      <td>29.3</td>\n",
       "      <td>0.317</td>\n",
       "      <td>34</td>\n",
       "      <td>0</td>\n",
       "      <td>0</td>\n",
       "      <td>0.100491</td>\n",
       "    </tr>\n",
       "    <tr>\n",
       "      <th>5</th>\n",
       "      <td>1</td>\n",
       "      <td>100</td>\n",
       "      <td>74</td>\n",
       "      <td>12</td>\n",
       "      <td>46</td>\n",
       "      <td>19.5</td>\n",
       "      <td>0.149</td>\n",
       "      <td>28</td>\n",
       "      <td>0</td>\n",
       "      <td>0</td>\n",
       "      <td>0.055155</td>\n",
       "    </tr>\n",
       "    <tr>\n",
       "      <th>6</th>\n",
       "      <td>9</td>\n",
       "      <td>89</td>\n",
       "      <td>62</td>\n",
       "      <td>0</td>\n",
       "      <td>0</td>\n",
       "      <td>22.5</td>\n",
       "      <td>0.142</td>\n",
       "      <td>33</td>\n",
       "      <td>0</td>\n",
       "      <td>0</td>\n",
       "      <td>0.107115</td>\n",
       "    </tr>\n",
       "    <tr>\n",
       "      <th>7</th>\n",
       "      <td>8</td>\n",
       "      <td>120</td>\n",
       "      <td>78</td>\n",
       "      <td>0</td>\n",
       "      <td>0</td>\n",
       "      <td>25.0</td>\n",
       "      <td>0.409</td>\n",
       "      <td>64</td>\n",
       "      <td>0</td>\n",
       "      <td>0</td>\n",
       "      <td>0.459947</td>\n",
       "    </tr>\n",
       "    <tr>\n",
       "      <th>8</th>\n",
       "      <td>1</td>\n",
       "      <td>79</td>\n",
       "      <td>60</td>\n",
       "      <td>42</td>\n",
       "      <td>48</td>\n",
       "      <td>43.5</td>\n",
       "      <td>0.678</td>\n",
       "      <td>23</td>\n",
       "      <td>0</td>\n",
       "      <td>0</td>\n",
       "      <td>0.117024</td>\n",
       "    </tr>\n",
       "    <tr>\n",
       "      <th>9</th>\n",
       "      <td>2</td>\n",
       "      <td>123</td>\n",
       "      <td>48</td>\n",
       "      <td>32</td>\n",
       "      <td>165</td>\n",
       "      <td>42.1</td>\n",
       "      <td>0.520</td>\n",
       "      <td>26</td>\n",
       "      <td>0</td>\n",
       "      <td>0</td>\n",
       "      <td>0.315363</td>\n",
       "    </tr>\n",
       "  </tbody>\n",
       "</table>\n",
       "</div>"
      ],
      "text/plain": [
       "   pregnant  glucose  diastolic  skinfold  insulin   bmi  pedigree  age  \\\n",
       "0         7      124         70        33      215  25.5     0.161   37   \n",
       "1         2      122         76        27      200  35.9     0.483   26   \n",
       "2         3      107         62        13       48  22.9     0.678   23   \n",
       "3         1       91         64        24        0  29.2     0.192   21   \n",
       "4         4       83         86        19        0  29.3     0.317   34   \n",
       "5         1      100         74        12       46  19.5     0.149   28   \n",
       "6         9       89         62         0        0  22.5     0.142   33   \n",
       "7         8      120         78         0        0  25.0     0.409   64   \n",
       "8         1       79         60        42       48  43.5     0.678   23   \n",
       "9         2      123         48        32      165  42.1     0.520   26   \n",
       "\n",
       "   class  scored.class  scored.probability  \n",
       "0      0             0            0.328452  \n",
       "1      0             0            0.273190  \n",
       "2      1             0            0.109660  \n",
       "3      0             0            0.055998  \n",
       "4      0             0            0.100491  \n",
       "5      0             0            0.055155  \n",
       "6      0             0            0.107115  \n",
       "7      0             0            0.459947  \n",
       "8      0             0            0.117024  \n",
       "9      0             0            0.315363  "
      ]
     },
     "execution_count": 43,
     "metadata": {},
     "output_type": "execute_result"
    }
   ],
   "source": [
    "# Loading the data from the github repository DAV-6150.\n",
    "\n",
    "c_matrix = pd.read_csv(\"https://raw.githubusercontent.com/chetan5373/DAV-6150/main/M5_Assignment/M5_Data.csv\")\n",
    "df = c_matrix.copy()\n",
    "\n",
    "df.head(10)"
   ]
  },
  {
   "cell_type": "code",
   "execution_count": 6,
   "id": "64c20651",
   "metadata": {},
   "outputs": [
    {
     "data": {
      "text/plain": [
       "(181, 11)"
      ]
     },
     "execution_count": 6,
     "metadata": {},
     "output_type": "execute_result"
    }
   ],
   "source": [
    "# Identifing dimension of the dataframe.\n",
    "\n",
    "df.shape"
   ]
  },
  {
   "cell_type": "markdown",
   "id": "b54e7824",
   "metadata": {},
   "source": [
    "- **Rows**: '181', & **Columns**: '11'"
   ]
  },
  {
   "cell_type": "code",
   "execution_count": 7,
   "id": "2c42035e",
   "metadata": {
    "scrolled": true
   },
   "outputs": [
    {
     "name": "stdout",
     "output_type": "stream",
     "text": [
      "<class 'pandas.core.frame.DataFrame'>\n",
      "RangeIndex: 181 entries, 0 to 180\n",
      "Data columns (total 11 columns):\n",
      " #   Column              Non-Null Count  Dtype  \n",
      "---  ------              --------------  -----  \n",
      " 0   pregnant            181 non-null    int64  \n",
      " 1   glucose             181 non-null    int64  \n",
      " 2   diastolic           181 non-null    int64  \n",
      " 3   skinfold            181 non-null    int64  \n",
      " 4   insulin             181 non-null    int64  \n",
      " 5   bmi                 181 non-null    float64\n",
      " 6   pedigree            181 non-null    float64\n",
      " 7   age                 181 non-null    int64  \n",
      " 8   class               181 non-null    int64  \n",
      " 9   scored.class        181 non-null    int64  \n",
      " 10  scored.probability  181 non-null    float64\n",
      "dtypes: float64(3), int64(8)\n",
      "memory usage: 15.7 KB\n"
     ]
    }
   ],
   "source": [
    "# Info of the DataFrame.\n",
    "\n",
    "df.info()"
   ]
  },
  {
   "cell_type": "markdown",
   "id": "757e861a",
   "metadata": {},
   "source": [
    "**Dataset observation:**\n",
    "\n",
    "\n",
    "\n",
    "- Index ranges from 0-180, where all are labeled binary observations (i.e., the classification is binary in nature).\n",
    "\n",
    "- Total number of attributes are 11.\n",
    "\n",
    "- Index 0 to 7 columns we will be removing, as not of use for this assignment, which are healthcare parameters each classified as either ‘0’ or ‘1’.\n",
    "\n",
    "- Index 8 `(class) Actual Data` : The actual classification for the observation.\n",
    "\n",
    "- Index 9 `(scored.class) Predicted Data` : The predicted classification for the observation (can only be ‘0’ or ‘1’; identified by comparing the classification model’s probability score (i.e., the likelihood that the correct classification for an observation is a ‘1’) for the observation against a 0.50 threshold).\n",
    "\n",
    "- Index 10 `(scored.probability)` : The classification model’s probability score (i.e., the likelihood that the correct classification for an observation is a ‘1’) for the observation. \n",
    "\n",
    "\n",
    "**Source** : [Link](https://yu.instructure.com/courses/68594/files/3996928?wrap=1)"
   ]
  },
  {
   "cell_type": "markdown",
   "id": "c1a5db48",
   "metadata": {},
   "source": [
    "### 2.2 Data In Usable Form"
   ]
  },
  {
   "cell_type": "code",
   "execution_count": 44,
   "id": "e8424048",
   "metadata": {
    "scrolled": false
   },
   "outputs": [
    {
     "name": "stdout",
     "output_type": "stream",
     "text": [
      "\n",
      "\u001b[96m-: DataFrame with Scored Probability :-\u001b[0m\n"
     ]
    },
    {
     "data": {
      "text/html": [
       "<div>\n",
       "<style scoped>\n",
       "    .dataframe tbody tr th:only-of-type {\n",
       "        vertical-align: middle;\n",
       "    }\n",
       "\n",
       "    .dataframe tbody tr th {\n",
       "        vertical-align: top;\n",
       "    }\n",
       "\n",
       "    .dataframe thead th {\n",
       "        text-align: right;\n",
       "    }\n",
       "</style>\n",
       "<table border=\"1\" class=\"dataframe\">\n",
       "  <thead>\n",
       "    <tr style=\"text-align: right;\">\n",
       "      <th></th>\n",
       "      <th>class</th>\n",
       "      <th>scored.class</th>\n",
       "      <th>scored.probability</th>\n",
       "    </tr>\n",
       "  </thead>\n",
       "  <tbody>\n",
       "    <tr>\n",
       "      <th>0</th>\n",
       "      <td>0</td>\n",
       "      <td>0</td>\n",
       "      <td>0.328452</td>\n",
       "    </tr>\n",
       "    <tr>\n",
       "      <th>1</th>\n",
       "      <td>0</td>\n",
       "      <td>0</td>\n",
       "      <td>0.273190</td>\n",
       "    </tr>\n",
       "    <tr>\n",
       "      <th>2</th>\n",
       "      <td>1</td>\n",
       "      <td>0</td>\n",
       "      <td>0.109660</td>\n",
       "    </tr>\n",
       "    <tr>\n",
       "      <th>3</th>\n",
       "      <td>0</td>\n",
       "      <td>0</td>\n",
       "      <td>0.055998</td>\n",
       "    </tr>\n",
       "    <tr>\n",
       "      <th>4</th>\n",
       "      <td>0</td>\n",
       "      <td>0</td>\n",
       "      <td>0.100491</td>\n",
       "    </tr>\n",
       "  </tbody>\n",
       "</table>\n",
       "</div>"
      ],
      "text/plain": [
       "   class  scored.class  scored.probability\n",
       "0      0             0            0.328452\n",
       "1      0             0            0.273190\n",
       "2      1             0            0.109660\n",
       "3      0             0            0.055998\n",
       "4      0             0            0.100491"
      ]
     },
     "metadata": {},
     "output_type": "display_data"
    },
    {
     "name": "stdout",
     "output_type": "stream",
     "text": [
      "\n",
      "\u001b[96m-: DataFrame without Scored Probability :-\u001b[0m\n"
     ]
    },
    {
     "data": {
      "text/html": [
       "<div>\n",
       "<style scoped>\n",
       "    .dataframe tbody tr th:only-of-type {\n",
       "        vertical-align: middle;\n",
       "    }\n",
       "\n",
       "    .dataframe tbody tr th {\n",
       "        vertical-align: top;\n",
       "    }\n",
       "\n",
       "    .dataframe thead th {\n",
       "        text-align: right;\n",
       "    }\n",
       "</style>\n",
       "<table border=\"1\" class=\"dataframe\">\n",
       "  <thead>\n",
       "    <tr style=\"text-align: right;\">\n",
       "      <th></th>\n",
       "      <th>class</th>\n",
       "      <th>scored.class</th>\n",
       "    </tr>\n",
       "  </thead>\n",
       "  <tbody>\n",
       "    <tr>\n",
       "      <th>0</th>\n",
       "      <td>0</td>\n",
       "      <td>0</td>\n",
       "    </tr>\n",
       "    <tr>\n",
       "      <th>1</th>\n",
       "      <td>0</td>\n",
       "      <td>0</td>\n",
       "    </tr>\n",
       "    <tr>\n",
       "      <th>2</th>\n",
       "      <td>1</td>\n",
       "      <td>0</td>\n",
       "    </tr>\n",
       "    <tr>\n",
       "      <th>3</th>\n",
       "      <td>0</td>\n",
       "      <td>0</td>\n",
       "    </tr>\n",
       "    <tr>\n",
       "      <th>4</th>\n",
       "      <td>0</td>\n",
       "      <td>0</td>\n",
       "    </tr>\n",
       "  </tbody>\n",
       "</table>\n",
       "</div>"
      ],
      "text/plain": [
       "   class  scored.class\n",
       "0      0             0\n",
       "1      0             0\n",
       "2      1             0\n",
       "3      0             0\n",
       "4      0             0"
      ]
     },
     "metadata": {},
     "output_type": "display_data"
    }
   ],
   "source": [
    "# Will remove the first 0 to 7 index as it is not required.\n",
    "\n",
    "df_sp = df.iloc[:, 8:]                                # df_sp = dataframe with scored probability.\n",
    "\n",
    "df = df.iloc[:, 8:10]                                 # df_sp = dataframe without scored probability.\n",
    "\n",
    "print()\n",
    "\n",
    "print('\\033[96m-: DataFrame with Scored Probability :-\\033[0m')     # New thing we learned, how to change color of\n",
    "display(df_sp.head(5))                                              # text in print function (Source Link below).\n",
    "\n",
    "print()\n",
    "\n",
    "print('\\033[96m-: DataFrame without Scored Probability :-\\033[0m')\n",
    "display(df.head(5))"
   ]
  },
  {
   "cell_type": "markdown",
   "id": "c557500a",
   "metadata": {},
   "source": [
    "**Source** : [How to change color of text in print function](https://www.quora.com/How-do-you-write-bold-in-Python#:~:text=These%20are%20the,World%20!%27%20%2B%20color.END)"
   ]
  },
  {
   "cell_type": "markdown",
   "id": "682c3b3c",
   "metadata": {},
   "source": [
    "----"
   ]
  },
  {
   "cell_type": "markdown",
   "id": "6e415997",
   "metadata": {},
   "source": [
    "<b> [Back to Content](#Content) </b>"
   ]
  },
  {
   "cell_type": "markdown",
   "id": "31f89ebd",
   "metadata": {},
   "source": [
    "## 3. Accuracy"
   ]
  },
  {
   "cell_type": "markdown",
   "id": "b0a9c5cd",
   "metadata": {},
   "source": []
  },
  {
   "cell_type": "code",
   "execution_count": null,
   "id": "af2dd309",
   "metadata": {},
   "outputs": [],
   "source": []
  },
  {
   "cell_type": "markdown",
   "id": "5e93748f",
   "metadata": {},
   "source": [
    "---"
   ]
  },
  {
   "cell_type": "markdown",
   "id": "d45fd482",
   "metadata": {},
   "source": [
    "<b> [Back to Content](#Content) </b>"
   ]
  },
  {
   "cell_type": "markdown",
   "id": "0686df4c",
   "metadata": {},
   "source": [
    "## 4. Precision"
   ]
  },
  {
   "cell_type": "markdown",
   "id": "a5186aeb",
   "metadata": {},
   "source": []
  },
  {
   "cell_type": "code",
   "execution_count": null,
   "id": "660f1953",
   "metadata": {},
   "outputs": [],
   "source": []
  },
  {
   "cell_type": "markdown",
   "id": "f9241287",
   "metadata": {},
   "source": [
    "----"
   ]
  },
  {
   "cell_type": "markdown",
   "id": "60a64655",
   "metadata": {},
   "source": [
    "<b> [Back to Content](#Content) </b>"
   ]
  },
  {
   "cell_type": "markdown",
   "id": "286d8bcf",
   "metadata": {},
   "source": [
    "## 5. Sensitivity"
   ]
  },
  {
   "cell_type": "markdown",
   "id": "0553c733",
   "metadata": {},
   "source": []
  },
  {
   "cell_type": "code",
   "execution_count": null,
   "id": "942999d7",
   "metadata": {},
   "outputs": [],
   "source": []
  },
  {
   "cell_type": "markdown",
   "id": "f8650a4c",
   "metadata": {},
   "source": [
    "----"
   ]
  },
  {
   "cell_type": "markdown",
   "id": "30d9e5c3",
   "metadata": {},
   "source": [
    "<b> [Back to Content](#Content) </b>"
   ]
  },
  {
   "cell_type": "markdown",
   "id": "3cb0b262",
   "metadata": {},
   "source": [
    "## 6. Specificity"
   ]
  },
  {
   "cell_type": "markdown",
   "id": "b68bb3d5",
   "metadata": {},
   "source": []
  },
  {
   "cell_type": "code",
   "execution_count": null,
   "id": "244f042f",
   "metadata": {},
   "outputs": [],
   "source": []
  },
  {
   "cell_type": "markdown",
   "id": "facbd99c",
   "metadata": {},
   "source": [
    "---"
   ]
  },
  {
   "cell_type": "markdown",
   "id": "76ab8272",
   "metadata": {},
   "source": [
    "<b> [Back to Content](#Content) </b>"
   ]
  },
  {
   "cell_type": "markdown",
   "id": "0292ea6c",
   "metadata": {},
   "source": [
    "## 7. F1 Score"
   ]
  },
  {
   "cell_type": "markdown",
   "id": "fff4302c",
   "metadata": {},
   "source": []
  },
  {
   "cell_type": "code",
   "execution_count": null,
   "id": "47946fcd",
   "metadata": {},
   "outputs": [],
   "source": []
  },
  {
   "cell_type": "markdown",
   "id": "59b0a180",
   "metadata": {},
   "source": [
    "---"
   ]
  },
  {
   "cell_type": "markdown",
   "id": "f5837d8e",
   "metadata": {},
   "source": [
    "<b> [Back to Content](#Content) </b>"
   ]
  },
  {
   "cell_type": "markdown",
   "id": "b9f14f42",
   "metadata": {},
   "source": [
    "## 8. ROC Curve"
   ]
  },
  {
   "cell_type": "markdown",
   "id": "057b8e33",
   "metadata": {},
   "source": []
  },
  {
   "cell_type": "code",
   "execution_count": null,
   "id": "be33f131",
   "metadata": {},
   "outputs": [],
   "source": []
  },
  {
   "cell_type": "markdown",
   "id": "08cce6fe",
   "metadata": {},
   "source": [
    "---"
   ]
  },
  {
   "cell_type": "markdown",
   "id": "022b6ffd",
   "metadata": {},
   "source": [
    "<b> [Back to Content](#Content) </b>"
   ]
  },
  {
   "cell_type": "markdown",
   "id": "bec80dee",
   "metadata": {},
   "source": [
    "## 9. AUC Function"
   ]
  },
  {
   "cell_type": "markdown",
   "id": "2f122bed",
   "metadata": {},
   "source": []
  },
  {
   "cell_type": "code",
   "execution_count": null,
   "id": "619e8190",
   "metadata": {},
   "outputs": [],
   "source": []
  },
  {
   "cell_type": "markdown",
   "id": "0c099b79",
   "metadata": {},
   "source": [
    "----"
   ]
  },
  {
   "cell_type": "markdown",
   "id": "82559edc",
   "metadata": {},
   "source": [
    "<b> [Back to Content](#Content) </b>"
   ]
  },
  {
   "cell_type": "markdown",
   "id": "98802d63",
   "metadata": {},
   "source": [
    "## 10. Clasification Matrix\n",
    "\n",
    "(specified in Index 3 through 7)"
   ]
  },
  {
   "cell_type": "markdown",
   "id": "08b166b9",
   "metadata": {},
   "source": []
  },
  {
   "cell_type": "code",
   "execution_count": null,
   "id": "580fd889",
   "metadata": {},
   "outputs": [],
   "source": []
  },
  {
   "cell_type": "markdown",
   "id": "5817b1f8",
   "metadata": {},
   "source": [
    "---"
   ]
  },
  {
   "cell_type": "markdown",
   "id": "2d487eaf",
   "metadata": {},
   "source": [
    "<b> [Back to Content](#Content) </b>"
   ]
  },
  {
   "cell_type": "markdown",
   "id": "57681480",
   "metadata": {},
   "source": [
    "## 11. Comparision \n",
    "\n",
    "(Our functions with Per-built functions)"
   ]
  },
  {
   "cell_type": "markdown",
   "id": "16a55c8c",
   "metadata": {},
   "source": []
  },
  {
   "cell_type": "code",
   "execution_count": null,
   "id": "dc758de2",
   "metadata": {},
   "outputs": [],
   "source": []
  },
  {
   "cell_type": "markdown",
   "id": "3fae23d6",
   "metadata": {},
   "source": [
    "---"
   ]
  },
  {
   "cell_type": "markdown",
   "id": "16ba7c6f",
   "metadata": {},
   "source": [
    "<b> [Back to Content](#Content) </b>"
   ]
  },
  {
   "cell_type": "markdown",
   "id": "20ae3aa1",
   "metadata": {},
   "source": [
    "## 12. Prebuilt ROC & AUC"
   ]
  },
  {
   "cell_type": "markdown",
   "id": "9233de92",
   "metadata": {},
   "source": []
  },
  {
   "cell_type": "code",
   "execution_count": null,
   "id": "80a02f90",
   "metadata": {},
   "outputs": [],
   "source": []
  },
  {
   "cell_type": "markdown",
   "id": "239b3b2a",
   "metadata": {},
   "source": [
    "---"
   ]
  },
  {
   "cell_type": "markdown",
   "id": "5e2e5756",
   "metadata": {},
   "source": [
    "<b> [Back to Content](#Content) </b>"
   ]
  },
  {
   "cell_type": "code",
   "execution_count": null,
   "id": "5883bcbb",
   "metadata": {},
   "outputs": [],
   "source": []
  },
  {
   "cell_type": "markdown",
   "id": "d3535d7d",
   "metadata": {},
   "source": [
    "## Conclusion"
   ]
  },
  {
   "cell_type": "markdown",
   "id": "4c86fa42",
   "metadata": {},
   "source": []
  },
  {
   "cell_type": "markdown",
   "id": "ea529ce4",
   "metadata": {},
   "source": [
    "----"
   ]
  },
  {
   "cell_type": "markdown",
   "id": "dbcc5801",
   "metadata": {},
   "source": [
    "<b> [Back to Top](#Content) </b>"
   ]
  },
  {
   "cell_type": "code",
   "execution_count": null,
   "id": "e96d4f0c",
   "metadata": {},
   "outputs": [],
   "source": []
  },
  {
   "cell_type": "code",
   "execution_count": null,
   "id": "542c932f",
   "metadata": {},
   "outputs": [],
   "source": []
  },
  {
   "cell_type": "code",
   "execution_count": null,
   "id": "a7555161",
   "metadata": {},
   "outputs": [],
   "source": []
  }
 ],
 "metadata": {
  "kernelspec": {
   "display_name": "Python 3",
   "language": "python",
   "name": "python3"
  },
  "language_info": {
   "codemirror_mode": {
    "name": "ipython",
    "version": 3
   },
   "file_extension": ".py",
   "mimetype": "text/x-python",
   "name": "python",
   "nbconvert_exporter": "python",
   "pygments_lexer": "ipython3",
   "version": "3.8.8"
  }
 },
 "nbformat": 4,
 "nbformat_minor": 5
}
