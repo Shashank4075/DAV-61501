{
 "cells": [
  {
   "cell_type": "markdown",
   "id": "b60c125b",
   "metadata": {},
   "source": [
    "#### <CENTER><h1><u>Implementing and Evaluating a Series of Regression Models</u></CENTER></h1>\n",
    "\n",
    "<br>\n",
    "\n",
    "<CENTER>(TEAM CONTRIBUTORS: CHAITANYA DEVARSHI, SHASHANK SHEKHAR, BITTERLEIN KONNOTH BIJU)</CENTER>\n",
    "\n",
    "-------\n",
    "-------\n",
    "-------"
   ]
  },
  {
   "cell_type": "markdown",
   "id": "3816efd4",
   "metadata": {},
   "source": [
    "<h2><u>Content</u></h2>\n",
    "\n",
    "[Domain Knowledge](#Domain-Knowledge)\n",
    "\n",
    "1. [Introduction](#1.-Introduction)\n",
    "\n",
    "  1.1 [Problem Statement](#1.1-Problem-Statement)\n",
    "  \n",
    "  1.2 [Methodology](#1.2-Methodology)\n",
    "  \n",
    "\n",
    "2. [Data Loading & Preparation](#2.-Data-Loading-&-Preparation)\n",
    "\n",
    "  2.1 [Read the Data](#2.1-Read-the-Data)\n",
    "  \n",
    "  2.2 [Data In Usable form](#2.2-Data-In-Usable-Form)\n",
    "  \n",
    "  2.3 [Data Validation](#2.3-Data-Validation)\n",
    "  \n",
    "  2.4 [Key Terms](#2.4-Key-Terms)\n",
    "  \n",
    "\n",
    "\n",
    "3. [EDA](#3.-EDA)\n",
    "\n",
    "\n",
    "4. [Precision](#4.-Precision)\n",
    "\n",
    "\n",
    "5. [Sensitivity](#5.-Sensitivity)\n",
    "\n",
    "\n",
    "6. [Specificity](#6.-Specificity)\n",
    "\n",
    "\n",
    "7. [F1 Score](#7.-F1-Score)\n",
    "\n",
    "\n",
    "8. [ROC Curve](#8.-ROC-Curve)\n",
    "\n",
    "\n",
    "9. [Use of Own Created Functions](#9.-Use-of-Own-Created-Functions)\n",
    "\n",
    "\n",
    "10. [Comparision](#10.-Comparision)\n",
    "\n",
    "\n",
    "11. [Prebuilt ROC & AUC](#11.-Prebuilt-ROC-&-AUC)\n",
    "\n",
    "\n",
    "\n",
    "[Conclusion](#Conclusion)\n"
   ]
  },
  {
   "cell_type": "markdown",
   "id": "47fd9701",
   "metadata": {},
   "source": [
    "----\n",
    "----\n",
    "----"
   ]
  },
  {
   "cell_type": "markdown",
   "id": "92c8a6e5",
   "metadata": {},
   "source": [
    "## Domain Knowledge"
   ]
  },
  {
   "cell_type": "markdown",
   "id": "edab05c2",
   "metadata": {},
   "source": [
    "## 1. Introduction"
   ]
  },
  {
   "cell_type": "markdown",
   "id": "ec30b9cd",
   "metadata": {},
   "source": []
  },
  {
   "cell_type": "markdown",
   "id": "76bb3655",
   "metadata": {},
   "source": [
    "----\n",
    "\n",
    "<b> [Back to Content](#Content) </b>"
   ]
  },
  {
   "cell_type": "markdown",
   "id": "1ec5b203",
   "metadata": {},
   "source": [
    "### 1.1 Problem Statement"
   ]
  },
  {
   "cell_type": "markdown",
   "id": "fb5c86ba",
   "metadata": {},
   "source": []
  },
  {
   "cell_type": "markdown",
   "id": "d54cc980",
   "metadata": {},
   "source": [
    "----\n",
    "\n",
    "<b> [Back to Content](#Content) </b>"
   ]
  },
  {
   "cell_type": "markdown",
   "id": "e3b4b953",
   "metadata": {},
   "source": [
    "## 1.2 Methodology"
   ]
  },
  {
   "cell_type": "markdown",
   "id": "7c6c353e",
   "metadata": {},
   "source": []
  },
  {
   "cell_type": "markdown",
   "id": "abe62fdd",
   "metadata": {},
   "source": [
    "----\n",
    "\n",
    "<b> [Back to Content](#Content) </b>"
   ]
  },
  {
   "cell_type": "markdown",
   "id": "2ff16ab1",
   "metadata": {},
   "source": [
    "## 2. Data Loading & Preparation"
   ]
  },
  {
   "cell_type": "markdown",
   "id": "ed07b7ed",
   "metadata": {},
   "source": [
    "### 2.1 Read the Data"
   ]
  },
  {
   "cell_type": "markdown",
   "id": "f25819ac",
   "metadata": {},
   "source": [
    "## 3. EDA"
   ]
  },
  {
   "cell_type": "code",
   "execution_count": null,
   "id": "c7dc957b",
   "metadata": {},
   "outputs": [],
   "source": []
  },
  {
   "cell_type": "markdown",
   "id": "15e66ac7",
   "metadata": {},
   "source": [
    "----\n",
    "\n",
    "<b> [Back to Content](#Content) </b>"
   ]
  },
  {
   "cell_type": "markdown",
   "id": "791c3cd0",
   "metadata": {},
   "source": []
  },
  {
   "cell_type": "code",
   "execution_count": null,
   "id": "04dcf17e",
   "metadata": {},
   "outputs": [],
   "source": []
  },
  {
   "cell_type": "code",
   "execution_count": null,
   "id": "319f99b9",
   "metadata": {},
   "outputs": [],
   "source": []
  },
  {
   "cell_type": "code",
   "execution_count": null,
   "id": "3b14b764",
   "metadata": {},
   "outputs": [],
   "source": []
  },
  {
   "cell_type": "code",
   "execution_count": null,
   "id": "83520908",
   "metadata": {},
   "outputs": [],
   "source": []
  },
  {
   "cell_type": "code",
   "execution_count": null,
   "id": "ee18d558",
   "metadata": {},
   "outputs": [],
   "source": []
  },
  {
   "cell_type": "code",
   "execution_count": null,
   "id": "1381796e",
   "metadata": {},
   "outputs": [],
   "source": []
  },
  {
   "cell_type": "code",
   "execution_count": null,
   "id": "49731a2b",
   "metadata": {},
   "outputs": [],
   "source": []
  },
  {
   "cell_type": "code",
   "execution_count": null,
   "id": "7a0611aa",
   "metadata": {},
   "outputs": [],
   "source": []
  },
  {
   "cell_type": "code",
   "execution_count": null,
   "id": "0d8f5426",
   "metadata": {},
   "outputs": [],
   "source": []
  },
  {
   "cell_type": "code",
   "execution_count": null,
   "id": "cf394db5",
   "metadata": {},
   "outputs": [],
   "source": []
  },
  {
   "cell_type": "code",
   "execution_count": null,
   "id": "6bd44ba1",
   "metadata": {},
   "outputs": [],
   "source": []
  },
  {
   "cell_type": "code",
   "execution_count": null,
   "id": "2a5ba4c4",
   "metadata": {},
   "outputs": [],
   "source": []
  },
  {
   "cell_type": "code",
   "execution_count": null,
   "id": "0ea7e5b9",
   "metadata": {},
   "outputs": [],
   "source": []
  },
  {
   "cell_type": "code",
   "execution_count": null,
   "id": "f2a7c590",
   "metadata": {},
   "outputs": [],
   "source": []
  },
  {
   "cell_type": "code",
   "execution_count": null,
   "id": "d5c29f74",
   "metadata": {},
   "outputs": [],
   "source": []
  },
  {
   "cell_type": "code",
   "execution_count": null,
   "id": "4bb75823",
   "metadata": {},
   "outputs": [],
   "source": []
  },
  {
   "cell_type": "code",
   "execution_count": null,
   "id": "36927656",
   "metadata": {},
   "outputs": [],
   "source": []
  }
 ],
 "metadata": {
  "kernelspec": {
   "display_name": "Python 3",
   "language": "python",
   "name": "python3"
  },
  "language_info": {
   "codemirror_mode": {
    "name": "ipython",
    "version": 3
   },
   "file_extension": ".py",
   "mimetype": "text/x-python",
   "name": "python",
   "nbconvert_exporter": "python",
   "pygments_lexer": "ipython3",
   "version": "3.8.8"
  }
 },
 "nbformat": 4,
 "nbformat_minor": 5
}
